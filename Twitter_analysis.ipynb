{
 "cells": [
  {
   "cell_type": "code",
   "execution_count": 1,
   "metadata": {},
   "outputs": [],
   "source": [
    "import pandas as pd\n",
    "import numpy as np\n",
    "import matplotlib.pyplot as plt\n",
    "import warnings\n",
    "warnings.filterwarnings('ignore')"
   ]
  },
  {
   "cell_type": "code",
   "execution_count": 2,
   "metadata": {},
   "outputs": [
    {
     "data": {
      "text/html": [
       "<div>\n",
       "<style scoped>\n",
       "    .dataframe tbody tr th:only-of-type {\n",
       "        vertical-align: middle;\n",
       "    }\n",
       "\n",
       "    .dataframe tbody tr th {\n",
       "        vertical-align: top;\n",
       "    }\n",
       "\n",
       "    .dataframe thead th {\n",
       "        text-align: right;\n",
       "    }\n",
       "</style>\n",
       "<table border=\"1\" class=\"dataframe\">\n",
       "  <thead>\n",
       "    <tr style=\"text-align: right;\">\n",
       "      <th></th>\n",
       "      <th>Sentiment</th>\n",
       "      <th>Id</th>\n",
       "      <th>Date</th>\n",
       "      <th>Flag</th>\n",
       "      <th>User</th>\n",
       "      <th>Tweet</th>\n",
       "    </tr>\n",
       "  </thead>\n",
       "  <tbody>\n",
       "    <tr>\n",
       "      <th>0</th>\n",
       "      <td>0</td>\n",
       "      <td>1467810369</td>\n",
       "      <td>Mon Apr 06 22:19:45 PDT 2009</td>\n",
       "      <td>NO_QUERY</td>\n",
       "      <td>_TheSpecialOne_</td>\n",
       "      <td>@switchfoot http://twitpic.com/2y1zl - Awww, t...</td>\n",
       "    </tr>\n",
       "    <tr>\n",
       "      <th>1</th>\n",
       "      <td>0</td>\n",
       "      <td>1467810672</td>\n",
       "      <td>Mon Apr 06 22:19:49 PDT 2009</td>\n",
       "      <td>NO_QUERY</td>\n",
       "      <td>scotthamilton</td>\n",
       "      <td>is upset that he can't update his Facebook by ...</td>\n",
       "    </tr>\n",
       "    <tr>\n",
       "      <th>2</th>\n",
       "      <td>0</td>\n",
       "      <td>1467810917</td>\n",
       "      <td>Mon Apr 06 22:19:53 PDT 2009</td>\n",
       "      <td>NO_QUERY</td>\n",
       "      <td>mattycus</td>\n",
       "      <td>@Kenichan I dived many times for the ball. Man...</td>\n",
       "    </tr>\n",
       "    <tr>\n",
       "      <th>3</th>\n",
       "      <td>0</td>\n",
       "      <td>1467811184</td>\n",
       "      <td>Mon Apr 06 22:19:57 PDT 2009</td>\n",
       "      <td>NO_QUERY</td>\n",
       "      <td>ElleCTF</td>\n",
       "      <td>my whole body feels itchy and like its on fire</td>\n",
       "    </tr>\n",
       "    <tr>\n",
       "      <th>4</th>\n",
       "      <td>0</td>\n",
       "      <td>1467811193</td>\n",
       "      <td>Mon Apr 06 22:19:57 PDT 2009</td>\n",
       "      <td>NO_QUERY</td>\n",
       "      <td>Karoli</td>\n",
       "      <td>@nationwideclass no, it's not behaving at all....</td>\n",
       "    </tr>\n",
       "  </tbody>\n",
       "</table>\n",
       "</div>"
      ],
      "text/plain": [
       "   Sentiment          Id                          Date      Flag  \\\n",
       "0          0  1467810369  Mon Apr 06 22:19:45 PDT 2009  NO_QUERY   \n",
       "1          0  1467810672  Mon Apr 06 22:19:49 PDT 2009  NO_QUERY   \n",
       "2          0  1467810917  Mon Apr 06 22:19:53 PDT 2009  NO_QUERY   \n",
       "3          0  1467811184  Mon Apr 06 22:19:57 PDT 2009  NO_QUERY   \n",
       "4          0  1467811193  Mon Apr 06 22:19:57 PDT 2009  NO_QUERY   \n",
       "\n",
       "              User                                              Tweet  \n",
       "0  _TheSpecialOne_  @switchfoot http://twitpic.com/2y1zl - Awww, t...  \n",
       "1    scotthamilton  is upset that he can't update his Facebook by ...  \n",
       "2         mattycus  @Kenichan I dived many times for the ball. Man...  \n",
       "3          ElleCTF    my whole body feels itchy and like its on fire   \n",
       "4           Karoli  @nationwideclass no, it's not behaving at all....  "
      ]
     },
     "execution_count": 2,
     "metadata": {},
     "output_type": "execute_result"
    }
   ],
   "source": [
    "DATASET_ENCODING = \"ISO-8859-1\"\n",
    "df = pd.read_csv(r'E:\\Vignesh\\twitter_new.csv', encoding=DATASET_ENCODING)\n",
    "df.head()"
   ]
  },
  {
   "cell_type": "code",
   "execution_count": 3,
   "metadata": {},
   "outputs": [
    {
     "data": {
      "text/plain": [
       "(1048572, 6)"
      ]
     },
     "execution_count": 3,
     "metadata": {},
     "output_type": "execute_result"
    }
   ],
   "source": [
    "df.shape"
   ]
  },
  {
   "cell_type": "code",
   "execution_count": 4,
   "metadata": {},
   "outputs": [],
   "source": [
    "df_copy = df.copy()"
   ]
  },
  {
   "cell_type": "code",
   "execution_count": 5,
   "metadata": {},
   "outputs": [
    {
     "name": "stdout",
     "output_type": "stream",
     "text": [
      "Index(['Sentiment', 'Id', 'Date', 'Flag', 'User', 'Tweet'], dtype='object')\n"
     ]
    }
   ],
   "source": [
    "# Check the column names in df_copy\n",
    "print(df_copy.columns)\n"
   ]
  },
  {
   "cell_type": "code",
   "execution_count": 6,
   "metadata": {},
   "outputs": [
    {
     "data": {
      "text/html": [
       "<div>\n",
       "<style scoped>\n",
       "    .dataframe tbody tr th:only-of-type {\n",
       "        vertical-align: middle;\n",
       "    }\n",
       "\n",
       "    .dataframe tbody tr th {\n",
       "        vertical-align: top;\n",
       "    }\n",
       "\n",
       "    .dataframe thead th {\n",
       "        text-align: right;\n",
       "    }\n",
       "</style>\n",
       "<table border=\"1\" class=\"dataframe\">\n",
       "  <thead>\n",
       "    <tr style=\"text-align: right;\">\n",
       "      <th></th>\n",
       "      <th>Sentiment</th>\n",
       "      <th>Id</th>\n",
       "      <th>Date</th>\n",
       "      <th>Flag</th>\n",
       "      <th>User</th>\n",
       "      <th>Tweet</th>\n",
       "      <th>word counts</th>\n",
       "    </tr>\n",
       "  </thead>\n",
       "  <tbody>\n",
       "    <tr>\n",
       "      <th>0</th>\n",
       "      <td>0</td>\n",
       "      <td>1467810369</td>\n",
       "      <td>Mon Apr 06 22:19:45 PDT 2009</td>\n",
       "      <td>NO_QUERY</td>\n",
       "      <td>_TheSpecialOne_</td>\n",
       "      <td>@switchfoot http://twitpic.com/2y1zl - Awww, t...</td>\n",
       "      <td>19</td>\n",
       "    </tr>\n",
       "    <tr>\n",
       "      <th>1</th>\n",
       "      <td>0</td>\n",
       "      <td>1467810672</td>\n",
       "      <td>Mon Apr 06 22:19:49 PDT 2009</td>\n",
       "      <td>NO_QUERY</td>\n",
       "      <td>scotthamilton</td>\n",
       "      <td>is upset that he can't update his Facebook by ...</td>\n",
       "      <td>21</td>\n",
       "    </tr>\n",
       "    <tr>\n",
       "      <th>2</th>\n",
       "      <td>0</td>\n",
       "      <td>1467810917</td>\n",
       "      <td>Mon Apr 06 22:19:53 PDT 2009</td>\n",
       "      <td>NO_QUERY</td>\n",
       "      <td>mattycus</td>\n",
       "      <td>@Kenichan I dived many times for the ball. Man...</td>\n",
       "      <td>18</td>\n",
       "    </tr>\n",
       "    <tr>\n",
       "      <th>3</th>\n",
       "      <td>0</td>\n",
       "      <td>1467811184</td>\n",
       "      <td>Mon Apr 06 22:19:57 PDT 2009</td>\n",
       "      <td>NO_QUERY</td>\n",
       "      <td>ElleCTF</td>\n",
       "      <td>my whole body feels itchy and like its on fire</td>\n",
       "      <td>10</td>\n",
       "    </tr>\n",
       "    <tr>\n",
       "      <th>4</th>\n",
       "      <td>0</td>\n",
       "      <td>1467811193</td>\n",
       "      <td>Mon Apr 06 22:19:57 PDT 2009</td>\n",
       "      <td>NO_QUERY</td>\n",
       "      <td>Karoli</td>\n",
       "      <td>@nationwideclass no, it's not behaving at all....</td>\n",
       "      <td>21</td>\n",
       "    </tr>\n",
       "  </tbody>\n",
       "</table>\n",
       "</div>"
      ],
      "text/plain": [
       "   Sentiment          Id                          Date      Flag  \\\n",
       "0          0  1467810369  Mon Apr 06 22:19:45 PDT 2009  NO_QUERY   \n",
       "1          0  1467810672  Mon Apr 06 22:19:49 PDT 2009  NO_QUERY   \n",
       "2          0  1467810917  Mon Apr 06 22:19:53 PDT 2009  NO_QUERY   \n",
       "3          0  1467811184  Mon Apr 06 22:19:57 PDT 2009  NO_QUERY   \n",
       "4          0  1467811193  Mon Apr 06 22:19:57 PDT 2009  NO_QUERY   \n",
       "\n",
       "              User                                              Tweet  \\\n",
       "0  _TheSpecialOne_  @switchfoot http://twitpic.com/2y1zl - Awww, t...   \n",
       "1    scotthamilton  is upset that he can't update his Facebook by ...   \n",
       "2         mattycus  @Kenichan I dived many times for the ball. Man...   \n",
       "3          ElleCTF    my whole body feels itchy and like its on fire    \n",
       "4           Karoli  @nationwideclass no, it's not behaving at all....   \n",
       "\n",
       "   word counts  \n",
       "0           19  \n",
       "1           21  \n",
       "2           18  \n",
       "3           10  \n",
       "4           21  "
      ]
     },
     "execution_count": 6,
     "metadata": {},
     "output_type": "execute_result"
    }
   ],
   "source": [
    "\n",
    "df_copy['word counts'] = df_copy['Tweet'].apply(lambda x: len(x.split()))\n",
    "df_copy.head()\n"
   ]
  },
  {
   "cell_type": "code",
   "execution_count": 7,
   "metadata": {},
   "outputs": [],
   "source": [
    "def char_counts(x):\n",
    "    x = x.split()\n",
    "    x = ''.join(x)\n",
    "    return len(x)"
   ]
  },
  {
   "cell_type": "code",
   "execution_count": 8,
   "metadata": {},
   "outputs": [
    {
     "data": {
      "text/html": [
       "<div>\n",
       "<style scoped>\n",
       "    .dataframe tbody tr th:only-of-type {\n",
       "        vertical-align: middle;\n",
       "    }\n",
       "\n",
       "    .dataframe tbody tr th {\n",
       "        vertical-align: top;\n",
       "    }\n",
       "\n",
       "    .dataframe thead th {\n",
       "        text-align: right;\n",
       "    }\n",
       "</style>\n",
       "<table border=\"1\" class=\"dataframe\">\n",
       "  <thead>\n",
       "    <tr style=\"text-align: right;\">\n",
       "      <th></th>\n",
       "      <th>Sentiment</th>\n",
       "      <th>Id</th>\n",
       "      <th>Date</th>\n",
       "      <th>Flag</th>\n",
       "      <th>User</th>\n",
       "      <th>Tweet</th>\n",
       "      <th>word counts</th>\n",
       "      <th>char counts</th>\n",
       "    </tr>\n",
       "  </thead>\n",
       "  <tbody>\n",
       "    <tr>\n",
       "      <th>0</th>\n",
       "      <td>0</td>\n",
       "      <td>1467810369</td>\n",
       "      <td>Mon Apr 06 22:19:45 PDT 2009</td>\n",
       "      <td>NO_QUERY</td>\n",
       "      <td>_TheSpecialOne_</td>\n",
       "      <td>@switchfoot http://twitpic.com/2y1zl - Awww, t...</td>\n",
       "      <td>19</td>\n",
       "      <td>96</td>\n",
       "    </tr>\n",
       "    <tr>\n",
       "      <th>1</th>\n",
       "      <td>0</td>\n",
       "      <td>1467810672</td>\n",
       "      <td>Mon Apr 06 22:19:49 PDT 2009</td>\n",
       "      <td>NO_QUERY</td>\n",
       "      <td>scotthamilton</td>\n",
       "      <td>is upset that he can't update his Facebook by ...</td>\n",
       "      <td>21</td>\n",
       "      <td>90</td>\n",
       "    </tr>\n",
       "    <tr>\n",
       "      <th>2</th>\n",
       "      <td>0</td>\n",
       "      <td>1467810917</td>\n",
       "      <td>Mon Apr 06 22:19:53 PDT 2009</td>\n",
       "      <td>NO_QUERY</td>\n",
       "      <td>mattycus</td>\n",
       "      <td>@Kenichan I dived many times for the ball. Man...</td>\n",
       "      <td>18</td>\n",
       "      <td>71</td>\n",
       "    </tr>\n",
       "    <tr>\n",
       "      <th>3</th>\n",
       "      <td>0</td>\n",
       "      <td>1467811184</td>\n",
       "      <td>Mon Apr 06 22:19:57 PDT 2009</td>\n",
       "      <td>NO_QUERY</td>\n",
       "      <td>ElleCTF</td>\n",
       "      <td>my whole body feels itchy and like its on fire</td>\n",
       "      <td>10</td>\n",
       "      <td>37</td>\n",
       "    </tr>\n",
       "    <tr>\n",
       "      <th>4</th>\n",
       "      <td>0</td>\n",
       "      <td>1467811193</td>\n",
       "      <td>Mon Apr 06 22:19:57 PDT 2009</td>\n",
       "      <td>NO_QUERY</td>\n",
       "      <td>Karoli</td>\n",
       "      <td>@nationwideclass no, it's not behaving at all....</td>\n",
       "      <td>21</td>\n",
       "      <td>90</td>\n",
       "    </tr>\n",
       "  </tbody>\n",
       "</table>\n",
       "</div>"
      ],
      "text/plain": [
       "   Sentiment          Id                          Date      Flag  \\\n",
       "0          0  1467810369  Mon Apr 06 22:19:45 PDT 2009  NO_QUERY   \n",
       "1          0  1467810672  Mon Apr 06 22:19:49 PDT 2009  NO_QUERY   \n",
       "2          0  1467810917  Mon Apr 06 22:19:53 PDT 2009  NO_QUERY   \n",
       "3          0  1467811184  Mon Apr 06 22:19:57 PDT 2009  NO_QUERY   \n",
       "4          0  1467811193  Mon Apr 06 22:19:57 PDT 2009  NO_QUERY   \n",
       "\n",
       "              User                                              Tweet  \\\n",
       "0  _TheSpecialOne_  @switchfoot http://twitpic.com/2y1zl - Awww, t...   \n",
       "1    scotthamilton  is upset that he can't update his Facebook by ...   \n",
       "2         mattycus  @Kenichan I dived many times for the ball. Man...   \n",
       "3          ElleCTF    my whole body feels itchy and like its on fire    \n",
       "4           Karoli  @nationwideclass no, it's not behaving at all....   \n",
       "\n",
       "   word counts  char counts  \n",
       "0           19           96  \n",
       "1           21           90  \n",
       "2           18           71  \n",
       "3           10           37  \n",
       "4           21           90  "
      ]
     },
     "execution_count": 8,
     "metadata": {},
     "output_type": "execute_result"
    }
   ],
   "source": [
    "df_copy['char counts'] = df_copy['Tweet'].apply(lambda x : char_counts(x))\n",
    "df_copy.head()"
   ]
  },
  {
   "cell_type": "code",
   "execution_count": 9,
   "metadata": {},
   "outputs": [
    {
     "data": {
      "text/html": [
       "<div>\n",
       "<style scoped>\n",
       "    .dataframe tbody tr th:only-of-type {\n",
       "        vertical-align: middle;\n",
       "    }\n",
       "\n",
       "    .dataframe tbody tr th {\n",
       "        vertical-align: top;\n",
       "    }\n",
       "\n",
       "    .dataframe thead th {\n",
       "        text-align: right;\n",
       "    }\n",
       "</style>\n",
       "<table border=\"1\" class=\"dataframe\">\n",
       "  <thead>\n",
       "    <tr style=\"text-align: right;\">\n",
       "      <th></th>\n",
       "      <th>Sentiment</th>\n",
       "      <th>Id</th>\n",
       "      <th>Date</th>\n",
       "      <th>Flag</th>\n",
       "      <th>User</th>\n",
       "      <th>Tweet</th>\n",
       "      <th>word counts</th>\n",
       "      <th>char counts</th>\n",
       "      <th>average_word_len</th>\n",
       "    </tr>\n",
       "  </thead>\n",
       "  <tbody>\n",
       "    <tr>\n",
       "      <th>0</th>\n",
       "      <td>0</td>\n",
       "      <td>1467810369</td>\n",
       "      <td>Mon Apr 06 22:19:45 PDT 2009</td>\n",
       "      <td>NO_QUERY</td>\n",
       "      <td>_TheSpecialOne_</td>\n",
       "      <td>@switchfoot http://twitpic.com/2y1zl - Awww, t...</td>\n",
       "      <td>19</td>\n",
       "      <td>96</td>\n",
       "      <td>5.052632</td>\n",
       "    </tr>\n",
       "    <tr>\n",
       "      <th>1</th>\n",
       "      <td>0</td>\n",
       "      <td>1467810672</td>\n",
       "      <td>Mon Apr 06 22:19:49 PDT 2009</td>\n",
       "      <td>NO_QUERY</td>\n",
       "      <td>scotthamilton</td>\n",
       "      <td>is upset that he can't update his Facebook by ...</td>\n",
       "      <td>21</td>\n",
       "      <td>90</td>\n",
       "      <td>4.285714</td>\n",
       "    </tr>\n",
       "    <tr>\n",
       "      <th>2</th>\n",
       "      <td>0</td>\n",
       "      <td>1467810917</td>\n",
       "      <td>Mon Apr 06 22:19:53 PDT 2009</td>\n",
       "      <td>NO_QUERY</td>\n",
       "      <td>mattycus</td>\n",
       "      <td>@Kenichan I dived many times for the ball. Man...</td>\n",
       "      <td>18</td>\n",
       "      <td>71</td>\n",
       "      <td>3.944444</td>\n",
       "    </tr>\n",
       "    <tr>\n",
       "      <th>3</th>\n",
       "      <td>0</td>\n",
       "      <td>1467811184</td>\n",
       "      <td>Mon Apr 06 22:19:57 PDT 2009</td>\n",
       "      <td>NO_QUERY</td>\n",
       "      <td>ElleCTF</td>\n",
       "      <td>my whole body feels itchy and like its on fire</td>\n",
       "      <td>10</td>\n",
       "      <td>37</td>\n",
       "      <td>3.700000</td>\n",
       "    </tr>\n",
       "    <tr>\n",
       "      <th>4</th>\n",
       "      <td>0</td>\n",
       "      <td>1467811193</td>\n",
       "      <td>Mon Apr 06 22:19:57 PDT 2009</td>\n",
       "      <td>NO_QUERY</td>\n",
       "      <td>Karoli</td>\n",
       "      <td>@nationwideclass no, it's not behaving at all....</td>\n",
       "      <td>21</td>\n",
       "      <td>90</td>\n",
       "      <td>4.285714</td>\n",
       "    </tr>\n",
       "  </tbody>\n",
       "</table>\n",
       "</div>"
      ],
      "text/plain": [
       "   Sentiment          Id                          Date      Flag  \\\n",
       "0          0  1467810369  Mon Apr 06 22:19:45 PDT 2009  NO_QUERY   \n",
       "1          0  1467810672  Mon Apr 06 22:19:49 PDT 2009  NO_QUERY   \n",
       "2          0  1467810917  Mon Apr 06 22:19:53 PDT 2009  NO_QUERY   \n",
       "3          0  1467811184  Mon Apr 06 22:19:57 PDT 2009  NO_QUERY   \n",
       "4          0  1467811193  Mon Apr 06 22:19:57 PDT 2009  NO_QUERY   \n",
       "\n",
       "              User                                              Tweet  \\\n",
       "0  _TheSpecialOne_  @switchfoot http://twitpic.com/2y1zl - Awww, t...   \n",
       "1    scotthamilton  is upset that he can't update his Facebook by ...   \n",
       "2         mattycus  @Kenichan I dived many times for the ball. Man...   \n",
       "3          ElleCTF    my whole body feels itchy and like its on fire    \n",
       "4           Karoli  @nationwideclass no, it's not behaving at all....   \n",
       "\n",
       "   word counts  char counts  average_word_len  \n",
       "0           19           96          5.052632  \n",
       "1           21           90          4.285714  \n",
       "2           18           71          3.944444  \n",
       "3           10           37          3.700000  \n",
       "4           21           90          4.285714  "
      ]
     },
     "execution_count": 9,
     "metadata": {},
     "output_type": "execute_result"
    }
   ],
   "source": [
    "df_copy['average_word_len'] = df_copy['char counts']/df_copy['word counts']\n",
    "df_copy.head()"
   ]
  },
  {
   "cell_type": "code",
   "execution_count": 10,
   "metadata": {},
   "outputs": [],
   "source": [
    "from nltk.corpus import stopwords"
   ]
  },
  {
   "cell_type": "code",
   "execution_count": 11,
   "metadata": {},
   "outputs": [
    {
     "name": "stderr",
     "output_type": "stream",
     "text": [
      "[nltk_data] Downloading package stopwords to C:\\Users\\Abirami\n",
      "[nltk_data]     SK\\AppData\\Roaming\\nltk_data...\n",
      "[nltk_data]   Package stopwords is already up-to-date!\n"
     ]
    },
    {
     "data": {
      "text/plain": [
       "True"
      ]
     },
     "execution_count": 11,
     "metadata": {},
     "output_type": "execute_result"
    }
   ],
   "source": [
    "import nltk\n",
    "nltk.download('stopwords')"
   ]
  },
  {
   "cell_type": "code",
   "execution_count": 12,
   "metadata": {},
   "outputs": [],
   "source": [
    "stop_words = stopwords.words('english')"
   ]
  },
  {
   "cell_type": "code",
   "execution_count": 13,
   "metadata": {},
   "outputs": [],
   "source": [
    "df['Tweet'] = df['Tweet'].apply(lambda x : ' '.join([t for t in x.split() if t not in stop_words]))"
   ]
  },
  {
   "cell_type": "code",
   "execution_count": 14,
   "metadata": {},
   "outputs": [
    {
     "data": {
      "text/html": [
       "<div>\n",
       "<style scoped>\n",
       "    .dataframe tbody tr th:only-of-type {\n",
       "        vertical-align: middle;\n",
       "    }\n",
       "\n",
       "    .dataframe tbody tr th {\n",
       "        vertical-align: top;\n",
       "    }\n",
       "\n",
       "    .dataframe thead th {\n",
       "        text-align: right;\n",
       "    }\n",
       "</style>\n",
       "<table border=\"1\" class=\"dataframe\">\n",
       "  <thead>\n",
       "    <tr style=\"text-align: right;\">\n",
       "      <th></th>\n",
       "      <th>Sentiment</th>\n",
       "      <th>Id</th>\n",
       "      <th>Date</th>\n",
       "      <th>Flag</th>\n",
       "      <th>User</th>\n",
       "      <th>Tweet</th>\n",
       "    </tr>\n",
       "  </thead>\n",
       "  <tbody>\n",
       "    <tr>\n",
       "      <th>0</th>\n",
       "      <td>0</td>\n",
       "      <td>1467810369</td>\n",
       "      <td>Mon Apr 06 22:19:45 PDT 2009</td>\n",
       "      <td>NO_QUERY</td>\n",
       "      <td>_TheSpecialOne_</td>\n",
       "      <td>@switchfoot http://twitpic.com/2y1zl - Awww, t...</td>\n",
       "    </tr>\n",
       "    <tr>\n",
       "      <th>1</th>\n",
       "      <td>0</td>\n",
       "      <td>1467810672</td>\n",
       "      <td>Mon Apr 06 22:19:49 PDT 2009</td>\n",
       "      <td>NO_QUERY</td>\n",
       "      <td>scotthamilton</td>\n",
       "      <td>upset can't update Facebook texting it... migh...</td>\n",
       "    </tr>\n",
       "    <tr>\n",
       "      <th>2</th>\n",
       "      <td>0</td>\n",
       "      <td>1467810917</td>\n",
       "      <td>Mon Apr 06 22:19:53 PDT 2009</td>\n",
       "      <td>NO_QUERY</td>\n",
       "      <td>mattycus</td>\n",
       "      <td>@Kenichan I dived many times ball. Managed sav...</td>\n",
       "    </tr>\n",
       "    <tr>\n",
       "      <th>3</th>\n",
       "      <td>0</td>\n",
       "      <td>1467811184</td>\n",
       "      <td>Mon Apr 06 22:19:57 PDT 2009</td>\n",
       "      <td>NO_QUERY</td>\n",
       "      <td>ElleCTF</td>\n",
       "      <td>whole body feels itchy like fire</td>\n",
       "    </tr>\n",
       "    <tr>\n",
       "      <th>4</th>\n",
       "      <td>0</td>\n",
       "      <td>1467811193</td>\n",
       "      <td>Mon Apr 06 22:19:57 PDT 2009</td>\n",
       "      <td>NO_QUERY</td>\n",
       "      <td>Karoli</td>\n",
       "      <td>@nationwideclass no, behaving all. i'm mad. he...</td>\n",
       "    </tr>\n",
       "  </tbody>\n",
       "</table>\n",
       "</div>"
      ],
      "text/plain": [
       "   Sentiment          Id                          Date      Flag  \\\n",
       "0          0  1467810369  Mon Apr 06 22:19:45 PDT 2009  NO_QUERY   \n",
       "1          0  1467810672  Mon Apr 06 22:19:49 PDT 2009  NO_QUERY   \n",
       "2          0  1467810917  Mon Apr 06 22:19:53 PDT 2009  NO_QUERY   \n",
       "3          0  1467811184  Mon Apr 06 22:19:57 PDT 2009  NO_QUERY   \n",
       "4          0  1467811193  Mon Apr 06 22:19:57 PDT 2009  NO_QUERY   \n",
       "\n",
       "              User                                              Tweet  \n",
       "0  _TheSpecialOne_  @switchfoot http://twitpic.com/2y1zl - Awww, t...  \n",
       "1    scotthamilton  upset can't update Facebook texting it... migh...  \n",
       "2         mattycus  @Kenichan I dived many times ball. Managed sav...  \n",
       "3          ElleCTF                   whole body feels itchy like fire  \n",
       "4           Karoli  @nationwideclass no, behaving all. i'm mad. he...  "
      ]
     },
     "execution_count": 14,
     "metadata": {},
     "output_type": "execute_result"
    }
   ],
   "source": [
    "df.head()"
   ]
  },
  {
   "cell_type": "code",
   "execution_count": 15,
   "metadata": {},
   "outputs": [],
   "source": [
    "def remove(x):\n",
    "    x = x.split()\n",
    "    for i in range(len(x)):\n",
    "        if(x[i].startswith('@')):\n",
    "            x[i] = x[i].replace('@','')\n",
    "        elif(x[i].startswith('#')):\n",
    "            x[i].replace('#','')\n",
    "    return ' '.join(x)"
   ]
  },
  {
   "cell_type": "code",
   "execution_count": 16,
   "metadata": {},
   "outputs": [
    {
     "data": {
      "text/plain": [
       "'robbiebronniman Sounds like great night'"
      ]
     },
     "execution_count": 16,
     "metadata": {},
     "output_type": "execute_result"
    }
   ],
   "source": [
    "remove('@robbiebronniman Sounds like great night')"
   ]
  },
  {
   "cell_type": "code",
   "execution_count": 17,
   "metadata": {},
   "outputs": [],
   "source": [
    "df['Tweet'] = df['Tweet'].apply(lambda x : remove(x))"
   ]
  },
  {
   "cell_type": "code",
   "execution_count": 18,
   "metadata": {},
   "outputs": [
    {
     "data": {
      "text/html": [
       "<div>\n",
       "<style scoped>\n",
       "    .dataframe tbody tr th:only-of-type {\n",
       "        vertical-align: middle;\n",
       "    }\n",
       "\n",
       "    .dataframe tbody tr th {\n",
       "        vertical-align: top;\n",
       "    }\n",
       "\n",
       "    .dataframe thead th {\n",
       "        text-align: right;\n",
       "    }\n",
       "</style>\n",
       "<table border=\"1\" class=\"dataframe\">\n",
       "  <thead>\n",
       "    <tr style=\"text-align: right;\">\n",
       "      <th></th>\n",
       "      <th>Sentiment</th>\n",
       "      <th>Id</th>\n",
       "      <th>Date</th>\n",
       "      <th>Flag</th>\n",
       "      <th>User</th>\n",
       "      <th>Tweet</th>\n",
       "    </tr>\n",
       "  </thead>\n",
       "  <tbody>\n",
       "    <tr>\n",
       "      <th>0</th>\n",
       "      <td>0</td>\n",
       "      <td>1467810369</td>\n",
       "      <td>Mon Apr 06 22:19:45 PDT 2009</td>\n",
       "      <td>NO_QUERY</td>\n",
       "      <td>_TheSpecialOne_</td>\n",
       "      <td>switchfoot http://twitpic.com/2y1zl - Awww, th...</td>\n",
       "    </tr>\n",
       "    <tr>\n",
       "      <th>1</th>\n",
       "      <td>0</td>\n",
       "      <td>1467810672</td>\n",
       "      <td>Mon Apr 06 22:19:49 PDT 2009</td>\n",
       "      <td>NO_QUERY</td>\n",
       "      <td>scotthamilton</td>\n",
       "      <td>upset can't update Facebook texting it... migh...</td>\n",
       "    </tr>\n",
       "    <tr>\n",
       "      <th>2</th>\n",
       "      <td>0</td>\n",
       "      <td>1467810917</td>\n",
       "      <td>Mon Apr 06 22:19:53 PDT 2009</td>\n",
       "      <td>NO_QUERY</td>\n",
       "      <td>mattycus</td>\n",
       "      <td>Kenichan I dived many times ball. Managed save...</td>\n",
       "    </tr>\n",
       "    <tr>\n",
       "      <th>3</th>\n",
       "      <td>0</td>\n",
       "      <td>1467811184</td>\n",
       "      <td>Mon Apr 06 22:19:57 PDT 2009</td>\n",
       "      <td>NO_QUERY</td>\n",
       "      <td>ElleCTF</td>\n",
       "      <td>whole body feels itchy like fire</td>\n",
       "    </tr>\n",
       "    <tr>\n",
       "      <th>4</th>\n",
       "      <td>0</td>\n",
       "      <td>1467811193</td>\n",
       "      <td>Mon Apr 06 22:19:57 PDT 2009</td>\n",
       "      <td>NO_QUERY</td>\n",
       "      <td>Karoli</td>\n",
       "      <td>nationwideclass no, behaving all. i'm mad. her...</td>\n",
       "    </tr>\n",
       "  </tbody>\n",
       "</table>\n",
       "</div>"
      ],
      "text/plain": [
       "   Sentiment          Id                          Date      Flag  \\\n",
       "0          0  1467810369  Mon Apr 06 22:19:45 PDT 2009  NO_QUERY   \n",
       "1          0  1467810672  Mon Apr 06 22:19:49 PDT 2009  NO_QUERY   \n",
       "2          0  1467810917  Mon Apr 06 22:19:53 PDT 2009  NO_QUERY   \n",
       "3          0  1467811184  Mon Apr 06 22:19:57 PDT 2009  NO_QUERY   \n",
       "4          0  1467811193  Mon Apr 06 22:19:57 PDT 2009  NO_QUERY   \n",
       "\n",
       "              User                                              Tweet  \n",
       "0  _TheSpecialOne_  switchfoot http://twitpic.com/2y1zl - Awww, th...  \n",
       "1    scotthamilton  upset can't update Facebook texting it... migh...  \n",
       "2         mattycus  Kenichan I dived many times ball. Managed save...  \n",
       "3          ElleCTF                   whole body feels itchy like fire  \n",
       "4           Karoli  nationwideclass no, behaving all. i'm mad. her...  "
      ]
     },
     "execution_count": 18,
     "metadata": {},
     "output_type": "execute_result"
    }
   ],
   "source": [
    "df.head()"
   ]
  },
  {
   "cell_type": "code",
   "execution_count": 19,
   "metadata": {},
   "outputs": [
    {
     "data": {
      "text/html": [
       "<div>\n",
       "<style scoped>\n",
       "    .dataframe tbody tr th:only-of-type {\n",
       "        vertical-align: middle;\n",
       "    }\n",
       "\n",
       "    .dataframe tbody tr th {\n",
       "        vertical-align: top;\n",
       "    }\n",
       "\n",
       "    .dataframe thead th {\n",
       "        text-align: right;\n",
       "    }\n",
       "</style>\n",
       "<table border=\"1\" class=\"dataframe\">\n",
       "  <thead>\n",
       "    <tr style=\"text-align: right;\">\n",
       "      <th></th>\n",
       "      <th>Sentiment</th>\n",
       "      <th>Id</th>\n",
       "      <th>Date</th>\n",
       "      <th>Flag</th>\n",
       "      <th>User</th>\n",
       "      <th>Tweet</th>\n",
       "      <th>word counts</th>\n",
       "      <th>char counts</th>\n",
       "      <th>average_word_len</th>\n",
       "    </tr>\n",
       "  </thead>\n",
       "  <tbody>\n",
       "    <tr>\n",
       "      <th>0</th>\n",
       "      <td>0</td>\n",
       "      <td>1467810369</td>\n",
       "      <td>Mon Apr 06 22:19:45 PDT 2009</td>\n",
       "      <td>NO_QUERY</td>\n",
       "      <td>_TheSpecialOne_</td>\n",
       "      <td>@switchfoot http://twitpic.com/2y1zl - Awww, t...</td>\n",
       "      <td>19</td>\n",
       "      <td>96</td>\n",
       "      <td>5.052632</td>\n",
       "    </tr>\n",
       "    <tr>\n",
       "      <th>1</th>\n",
       "      <td>0</td>\n",
       "      <td>1467810672</td>\n",
       "      <td>Mon Apr 06 22:19:49 PDT 2009</td>\n",
       "      <td>NO_QUERY</td>\n",
       "      <td>scotthamilton</td>\n",
       "      <td>is upset that he can't update his Facebook by ...</td>\n",
       "      <td>21</td>\n",
       "      <td>90</td>\n",
       "      <td>4.285714</td>\n",
       "    </tr>\n",
       "    <tr>\n",
       "      <th>2</th>\n",
       "      <td>0</td>\n",
       "      <td>1467810917</td>\n",
       "      <td>Mon Apr 06 22:19:53 PDT 2009</td>\n",
       "      <td>NO_QUERY</td>\n",
       "      <td>mattycus</td>\n",
       "      <td>@Kenichan I dived many times for the ball. Man...</td>\n",
       "      <td>18</td>\n",
       "      <td>71</td>\n",
       "      <td>3.944444</td>\n",
       "    </tr>\n",
       "    <tr>\n",
       "      <th>3</th>\n",
       "      <td>0</td>\n",
       "      <td>1467811184</td>\n",
       "      <td>Mon Apr 06 22:19:57 PDT 2009</td>\n",
       "      <td>NO_QUERY</td>\n",
       "      <td>ElleCTF</td>\n",
       "      <td>my whole body feels itchy and like its on fire</td>\n",
       "      <td>10</td>\n",
       "      <td>37</td>\n",
       "      <td>3.700000</td>\n",
       "    </tr>\n",
       "    <tr>\n",
       "      <th>4</th>\n",
       "      <td>0</td>\n",
       "      <td>1467811193</td>\n",
       "      <td>Mon Apr 06 22:19:57 PDT 2009</td>\n",
       "      <td>NO_QUERY</td>\n",
       "      <td>Karoli</td>\n",
       "      <td>@nationwideclass no, it's not behaving at all....</td>\n",
       "      <td>21</td>\n",
       "      <td>90</td>\n",
       "      <td>4.285714</td>\n",
       "    </tr>\n",
       "  </tbody>\n",
       "</table>\n",
       "</div>"
      ],
      "text/plain": [
       "   Sentiment          Id                          Date      Flag  \\\n",
       "0          0  1467810369  Mon Apr 06 22:19:45 PDT 2009  NO_QUERY   \n",
       "1          0  1467810672  Mon Apr 06 22:19:49 PDT 2009  NO_QUERY   \n",
       "2          0  1467810917  Mon Apr 06 22:19:53 PDT 2009  NO_QUERY   \n",
       "3          0  1467811184  Mon Apr 06 22:19:57 PDT 2009  NO_QUERY   \n",
       "4          0  1467811193  Mon Apr 06 22:19:57 PDT 2009  NO_QUERY   \n",
       "\n",
       "              User                                              Tweet  \\\n",
       "0  _TheSpecialOne_  @switchfoot http://twitpic.com/2y1zl - Awww, t...   \n",
       "1    scotthamilton  is upset that he can't update his Facebook by ...   \n",
       "2         mattycus  @Kenichan I dived many times for the ball. Man...   \n",
       "3          ElleCTF    my whole body feels itchy and like its on fire    \n",
       "4           Karoli  @nationwideclass no, it's not behaving at all....   \n",
       "\n",
       "   word counts  char counts  average_word_len  \n",
       "0           19           96          5.052632  \n",
       "1           21           90          4.285714  \n",
       "2           18           71          3.944444  \n",
       "3           10           37          3.700000  \n",
       "4           21           90          4.285714  "
      ]
     },
     "execution_count": 19,
     "metadata": {},
     "output_type": "execute_result"
    }
   ],
   "source": [
    "df_copy.head()"
   ]
  },
  {
   "cell_type": "code",
   "execution_count": 20,
   "metadata": {},
   "outputs": [],
   "source": [
    "df_copy['numeric_counts'] = df_copy['Tweet'].apply(lambda x : len([t for t in x.split() if t.isdigit()]))"
   ]
  },
  {
   "cell_type": "code",
   "execution_count": 21,
   "metadata": {},
   "outputs": [
    {
     "data": {
      "text/html": [
       "<div>\n",
       "<style scoped>\n",
       "    .dataframe tbody tr th:only-of-type {\n",
       "        vertical-align: middle;\n",
       "    }\n",
       "\n",
       "    .dataframe tbody tr th {\n",
       "        vertical-align: top;\n",
       "    }\n",
       "\n",
       "    .dataframe thead th {\n",
       "        text-align: right;\n",
       "    }\n",
       "</style>\n",
       "<table border=\"1\" class=\"dataframe\">\n",
       "  <thead>\n",
       "    <tr style=\"text-align: right;\">\n",
       "      <th></th>\n",
       "      <th>Sentiment</th>\n",
       "      <th>Id</th>\n",
       "      <th>Date</th>\n",
       "      <th>Flag</th>\n",
       "      <th>User</th>\n",
       "      <th>Tweet</th>\n",
       "      <th>word counts</th>\n",
       "      <th>char counts</th>\n",
       "      <th>average_word_len</th>\n",
       "      <th>numeric_counts</th>\n",
       "    </tr>\n",
       "  </thead>\n",
       "  <tbody>\n",
       "    <tr>\n",
       "      <th>8733</th>\n",
       "      <td>0</td>\n",
       "      <td>1548341270</td>\n",
       "      <td>Fri Apr 17 20:41:16 PDT 2009</td>\n",
       "      <td>NO_QUERY</td>\n",
       "      <td>HayleyyFitch</td>\n",
       "      <td>@sydneohhh aww  no its not hot at all! today i...</td>\n",
       "      <td>33</td>\n",
       "      <td>103</td>\n",
       "      <td>3.121212</td>\n",
       "      <td>5</td>\n",
       "    </tr>\n",
       "    <tr>\n",
       "      <th>22698</th>\n",
       "      <td>0</td>\n",
       "      <td>1557548816</td>\n",
       "      <td>Sun Apr 19 04:46:29 PDT 2009</td>\n",
       "      <td>NO_QUERY</td>\n",
       "      <td>4mariam</td>\n",
       "      <td>I Went 2 school 4 2 hours only , the nurse cal...</td>\n",
       "      <td>24</td>\n",
       "      <td>64</td>\n",
       "      <td>2.666667</td>\n",
       "      <td>5</td>\n",
       "    </tr>\n",
       "    <tr>\n",
       "      <th>29842</th>\n",
       "      <td>0</td>\n",
       "      <td>1563599632</td>\n",
       "      <td>Sun Apr 19 23:28:05 PDT 2009</td>\n",
       "      <td>NO_QUERY</td>\n",
       "      <td>alyssawang</td>\n",
       "      <td>2 exams, 1 paper, 1 quiz, 1 project, +hw all i...</td>\n",
       "      <td>14</td>\n",
       "      <td>48</td>\n",
       "      <td>3.428571</td>\n",
       "      <td>5</td>\n",
       "    </tr>\n",
       "    <tr>\n",
       "      <th>70248</th>\n",
       "      <td>0</td>\n",
       "      <td>1693599250</td>\n",
       "      <td>Sun May 03 23:05:15 PDT 2009</td>\n",
       "      <td>NO_QUERY</td>\n",
       "      <td>nkotb427</td>\n",
       "      <td>@donniewahlberg wanted 2 b there but had 2 com...</td>\n",
       "      <td>22</td>\n",
       "      <td>83</td>\n",
       "      <td>3.772727</td>\n",
       "      <td>5</td>\n",
       "    </tr>\n",
       "    <tr>\n",
       "      <th>108294</th>\n",
       "      <td>0</td>\n",
       "      <td>1824234530</td>\n",
       "      <td>Sun May 17 00:32:40 PDT 2009</td>\n",
       "      <td>NO_QUERY</td>\n",
       "      <td>sparkay</td>\n",
       "      <td>its nearly 330 in the am, i've barely slept &amp;a...</td>\n",
       "      <td>32</td>\n",
       "      <td>113</td>\n",
       "      <td>3.531250</td>\n",
       "      <td>5</td>\n",
       "    </tr>\n",
       "    <tr>\n",
       "      <th>...</th>\n",
       "      <td>...</td>\n",
       "      <td>...</td>\n",
       "      <td>...</td>\n",
       "      <td>...</td>\n",
       "      <td>...</td>\n",
       "      <td>...</td>\n",
       "      <td>...</td>\n",
       "      <td>...</td>\n",
       "      <td>...</td>\n",
       "      <td>...</td>\n",
       "    </tr>\n",
       "    <tr>\n",
       "      <th>979918</th>\n",
       "      <td>4</td>\n",
       "      <td>1833974703</td>\n",
       "      <td>Mon May 18 01:08:59 PDT 2009</td>\n",
       "      <td>NO_QUERY</td>\n",
       "      <td>akwikkel</td>\n",
       "      <td>13 weeks of &amp;quot;fun in the sun&amp;quot; with th...</td>\n",
       "      <td>30</td>\n",
       "      <td>109</td>\n",
       "      <td>3.633333</td>\n",
       "      <td>5</td>\n",
       "    </tr>\n",
       "    <tr>\n",
       "      <th>1003911</th>\n",
       "      <td>4</td>\n",
       "      <td>1880363088</td>\n",
       "      <td>Fri May 22 00:58:48 PDT 2009</td>\n",
       "      <td>NO_QUERY</td>\n",
       "      <td>rdfreak</td>\n",
       "      <td>@sopranokoala great weekend; 1 no food 2 no fo...</td>\n",
       "      <td>23</td>\n",
       "      <td>103</td>\n",
       "      <td>4.478261</td>\n",
       "      <td>5</td>\n",
       "    </tr>\n",
       "    <tr>\n",
       "      <th>1012127</th>\n",
       "      <td>4</td>\n",
       "      <td>1881170871</td>\n",
       "      <td>Fri May 22 03:50:09 PDT 2009</td>\n",
       "      <td>NO_QUERY</td>\n",
       "      <td>martemeg</td>\n",
       "      <td>Rode my bike to school - 50 minutes. Had p.e. ...</td>\n",
       "      <td>28</td>\n",
       "      <td>108</td>\n",
       "      <td>3.857143</td>\n",
       "      <td>5</td>\n",
       "    </tr>\n",
       "    <tr>\n",
       "      <th>1016000</th>\n",
       "      <td>4</td>\n",
       "      <td>1881643171</td>\n",
       "      <td>Fri May 22 05:12:19 PDT 2009</td>\n",
       "      <td>NO_QUERY</td>\n",
       "      <td>sara_meininger</td>\n",
       "      <td>30 days - 21 hours - 43 minutes and 13 seconds...</td>\n",
       "      <td>21</td>\n",
       "      <td>79</td>\n",
       "      <td>3.761905</td>\n",
       "      <td>5</td>\n",
       "    </tr>\n",
       "    <tr>\n",
       "      <th>1023640</th>\n",
       "      <td>4</td>\n",
       "      <td>1883054805</td>\n",
       "      <td>Fri May 22 07:56:03 PDT 2009</td>\n",
       "      <td>NO_QUERY</td>\n",
       "      <td>fireboy333</td>\n",
       "      <td>i cant wait 2 c clio. im goin 2 make her feel ...</td>\n",
       "      <td>31</td>\n",
       "      <td>94</td>\n",
       "      <td>3.032258</td>\n",
       "      <td>5</td>\n",
       "    </tr>\n",
       "  </tbody>\n",
       "</table>\n",
       "<p>73 rows × 10 columns</p>\n",
       "</div>"
      ],
      "text/plain": [
       "         Sentiment          Id                          Date      Flag  \\\n",
       "8733             0  1548341270  Fri Apr 17 20:41:16 PDT 2009  NO_QUERY   \n",
       "22698            0  1557548816  Sun Apr 19 04:46:29 PDT 2009  NO_QUERY   \n",
       "29842            0  1563599632  Sun Apr 19 23:28:05 PDT 2009  NO_QUERY   \n",
       "70248            0  1693599250  Sun May 03 23:05:15 PDT 2009  NO_QUERY   \n",
       "108294           0  1824234530  Sun May 17 00:32:40 PDT 2009  NO_QUERY   \n",
       "...            ...         ...                           ...       ...   \n",
       "979918           4  1833974703  Mon May 18 01:08:59 PDT 2009  NO_QUERY   \n",
       "1003911          4  1880363088  Fri May 22 00:58:48 PDT 2009  NO_QUERY   \n",
       "1012127          4  1881170871  Fri May 22 03:50:09 PDT 2009  NO_QUERY   \n",
       "1016000          4  1881643171  Fri May 22 05:12:19 PDT 2009  NO_QUERY   \n",
       "1023640          4  1883054805  Fri May 22 07:56:03 PDT 2009  NO_QUERY   \n",
       "\n",
       "                   User                                              Tweet  \\\n",
       "8733       HayleyyFitch  @sydneohhh aww  no its not hot at all! today i...   \n",
       "22698           4mariam  I Went 2 school 4 2 hours only , the nurse cal...   \n",
       "29842        alyssawang  2 exams, 1 paper, 1 quiz, 1 project, +hw all i...   \n",
       "70248          nkotb427  @donniewahlberg wanted 2 b there but had 2 com...   \n",
       "108294          sparkay  its nearly 330 in the am, i've barely slept &a...   \n",
       "...                 ...                                                ...   \n",
       "979918         akwikkel  13 weeks of &quot;fun in the sun&quot; with th...   \n",
       "1003911         rdfreak  @sopranokoala great weekend; 1 no food 2 no fo...   \n",
       "1012127        martemeg  Rode my bike to school - 50 minutes. Had p.e. ...   \n",
       "1016000  sara_meininger  30 days - 21 hours - 43 minutes and 13 seconds...   \n",
       "1023640      fireboy333  i cant wait 2 c clio. im goin 2 make her feel ...   \n",
       "\n",
       "         word counts  char counts  average_word_len  numeric_counts  \n",
       "8733              33          103          3.121212               5  \n",
       "22698             24           64          2.666667               5  \n",
       "29842             14           48          3.428571               5  \n",
       "70248             22           83          3.772727               5  \n",
       "108294            32          113          3.531250               5  \n",
       "...              ...          ...               ...             ...  \n",
       "979918            30          109          3.633333               5  \n",
       "1003911           23          103          4.478261               5  \n",
       "1012127           28          108          3.857143               5  \n",
       "1016000           21           79          3.761905               5  \n",
       "1023640           31           94          3.032258               5  \n",
       "\n",
       "[73 rows x 10 columns]"
      ]
     },
     "execution_count": 21,
     "metadata": {},
     "output_type": "execute_result"
    }
   ],
   "source": [
    "df_copy[df_copy['numeric_counts']==5]"
   ]
  },
  {
   "cell_type": "code",
   "execution_count": 22,
   "metadata": {},
   "outputs": [
    {
     "data": {
      "text/plain": [
       "Sentiment                                                           0\n",
       "Id                                                         1552060384\n",
       "Date                                     Sat Apr 18 10:41:00 PDT 2009\n",
       "Flag                                                         NO_QUERY\n",
       "User                                                       springit89\n",
       "Tweet               house feels so empty with 2 out of 3 roommates...\n",
       "word counts                                                        18\n",
       "char counts                                                        80\n",
       "average_word_len                                             4.444444\n",
       "numeric_counts                                                      2\n",
       "Name: 12969, dtype: object"
      ]
     },
     "execution_count": 22,
     "metadata": {},
     "output_type": "execute_result"
    }
   ],
   "source": [
    "df_copy.iloc[12969]"
   ]
  },
  {
   "cell_type": "code",
   "execution_count": 23,
   "metadata": {},
   "outputs": [],
   "source": [
    "def remove_digit(x):\n",
    "    x = x.split()\n",
    "    for t in range(0,len(x)):\n",
    "        if(x[t].isdigit()):\n",
    "            x[t] = ''\n",
    "    return ' '.join(x)"
   ]
  },
  {
   "cell_type": "code",
   "execution_count": 24,
   "metadata": {},
   "outputs": [],
   "source": [
    "df['Tweet'] = df['Tweet'].apply(lambda x : remove_digit(x))"
   ]
  },
  {
   "cell_type": "code",
   "execution_count": 25,
   "metadata": {},
   "outputs": [],
   "source": [
    "df['Tweet'] = df['Tweet'].apply(lambda x : str(x).lower())"
   ]
  },
  {
   "cell_type": "code",
   "execution_count": 26,
   "metadata": {},
   "outputs": [
    {
     "data": {
      "text/plain": [
       "Sentiment                                                    0\n",
       "Id                                                  1552060384\n",
       "Date                              Sat Apr 18 10:41:00 PDT 2009\n",
       "Flag                                                  NO_QUERY\n",
       "User                                                springit89\n",
       "Tweet        house feels empty   roommates gone! im sooo lo...\n",
       "Name: 12969, dtype: object"
      ]
     },
     "execution_count": 26,
     "metadata": {},
     "output_type": "execute_result"
    }
   ],
   "source": [
    "df.iloc[12969]"
   ]
  },
  {
   "cell_type": "code",
   "execution_count": 27,
   "metadata": {},
   "outputs": [],
   "source": [
    "contractions = {\n",
    " \"ain't\": \"am not\",\n",
    " \"aren't\": \"are not\",\n",
    " \"can't\": \"cannot\",\n",
    " \"can't've\": \"cannot have\",\n",
    " \"'cause\": \"because\",\n",
    " \"could've\": \"could have\",\n",
    " \"couldn't\": \"could not\",\n",
    " \"couldn't've\": \"could not have\",\n",
    " \"didn't\": \"did not\",\n",
    " \"doesn't\": \"does not\",\n",
    " \"don't\": \"do not\",\n",
    " \"hadn't\": \"had not\",\n",
    " \"hadn't've\": \"had not have\",\n",
    " \"hasn't\": \"has not\",\n",
    " \"haven't\": \"have not\",\n",
    " \"he'd\": \"he would\",\n",
    " \"he'd've\": \"he would have\",\n",
    " \"he'll\": \"he will\",\n",
    " \"he'll've\": \"he will have\",\n",
    " \"he's\": \"he is\",\n",
    " \"how'd\": \"how did\",\n",
    " \"how'd'y\": \"how do you\",\n",
    " \"how'll\": \"how will\",\n",
    " \"how's\": \"how does\",\n",
    " \"i'd\": \"i would\",\n",
    " \"i'd've\": \"i would have\",\n",
    " \"i'll\": \"i will\",\n",
    " \"i'll've\": \"i will have\",\n",
    " \"i'm\": \"i am\",\n",
    " \"i've\": \"i have\",\n",
    " \"isn't\": \"is not\",\n",
    " \"it'd\": \"it would\",\n",
    " \"it'd've\": \"it would have\",\n",
    " \"it'll\": \"it will\",\n",
    " \"it'll've\": \"it will have\",\n",
    " \"it's\": \"it is\",\n",
    " \"let's\": \"let us\",\n",
    " \"ma'am\": \"madam\",\n",
    " \"mayn't\": \"may not\",\n",
    " \"might've\": \"might have\",\n",
    " \"mightn't\": \"might not\",\n",
    " \"mightn't've\": \"might not have\",\n",
    " \"must've\": \"must have\",\n",
    " \"mustn't\": \"must not\",\n",
    " \"mustn't've\": \"must not have\",\n",
    " \"needn't\": \"need not\",\n",
    " \"needn't've\": \"need not have\",\n",
    " \"o'clock\": \"of the clock\",\n",
    " \"oughtn't\": \"ought not\",\n",
    " \"oughtn't've\": \"ought not have\",\n",
    " \"shan't\": \"shall not\",\n",
    " \"sha'n't\": \"shall not\",\n",
    " \"shan't've\": \"shall not have\",\n",
    " \"she'd\": \"she would\",\n",
    " \"she'd've\": \"she would have\",\n",
    " \"she'll\": \"she will\",\n",
    " \"she'll've\": \"she will have\",\n",
    " \"she's\": \"she is\",\n",
    " \"should've\": \"should have\",\n",
    " \"shouldn't\": \"should not\",\n",
    " \"shouldn't've\": \"should not have\",\n",
    " \"so've\": \"so have\",\n",
    " \"so's\": \"so is\",\n",
    " \"that'd\": \"that would\",\n",
    " \"that'd've\": \"that would have\",\n",
    " \"that's\": \"that is\",\n",
    " \"there'd\": \"there would\",\n",
    " \"there'd've\": \"there would have\",\n",
    " \"there's\": \"there is\",\n",
    " \"they'd\": \"they would\",\n",
    " \"they'd've\": \"they would have\",\n",
    " \"they'll\": \"they will\",\n",
    " \"they'll've\": \"they will have\",\n",
    " \"they're\": \"they are\",\n",
    " \"they've\": \"they have\",\n",
    " \"to've\": \"to have\",\n",
    " \"wasn't\": \"was not\",\n",
    " \" u \": \" you \",\n",
    " \" ur \": \" your \",\n",
    " \" n \": \" and \",\n",
    " \"won't\": \"would not\",\n",
    " 'dis': 'this',\n",
    " 'bak': 'back',\n",
    " 'brng': 'bring',\n",
    " \"won't\":\"would not\",\n",
    "  'dis':'this',\n",
    " \"bak\":\"back\",\n",
    " \"brng\":'bring',\n",
    " \"i'v\" : 'i have'\n",
    " }"
   ]
  },
  {
   "cell_type": "code",
   "execution_count": 28,
   "metadata": {},
   "outputs": [],
   "source": [
    "def expand(x):\n",
    "    if type(x) is str:\n",
    "        for key in contractions:\n",
    "            value = contractions[key]\n",
    "            x = x.replace(key,value)\n",
    "        return x\n",
    "    else:\n",
    "        return x"
   ]
  },
  {
   "cell_type": "code",
   "execution_count": 29,
   "metadata": {},
   "outputs": [],
   "source": [
    "df['Tweet'] = df['Tweet'].apply(lambda x : expand(x))"
   ]
  },
  {
   "cell_type": "code",
   "execution_count": 30,
   "metadata": {},
   "outputs": [],
   "source": [
    "import re"
   ]
  },
  {
   "cell_type": "markdown",
   "metadata": {},
   "source": [
    "Email removals and count"
   ]
  },
  {
   "cell_type": "code",
   "execution_count": 31,
   "metadata": {},
   "outputs": [
    {
     "data": {
      "text/html": [
       "<div>\n",
       "<style scoped>\n",
       "    .dataframe tbody tr th:only-of-type {\n",
       "        vertical-align: middle;\n",
       "    }\n",
       "\n",
       "    .dataframe tbody tr th {\n",
       "        vertical-align: top;\n",
       "    }\n",
       "\n",
       "    .dataframe thead th {\n",
       "        text-align: right;\n",
       "    }\n",
       "</style>\n",
       "<table border=\"1\" class=\"dataframe\">\n",
       "  <thead>\n",
       "    <tr style=\"text-align: right;\">\n",
       "      <th></th>\n",
       "      <th>Sentiment</th>\n",
       "      <th>Id</th>\n",
       "      <th>Date</th>\n",
       "      <th>Flag</th>\n",
       "      <th>User</th>\n",
       "      <th>Tweet</th>\n",
       "      <th>word counts</th>\n",
       "      <th>char counts</th>\n",
       "      <th>average_word_len</th>\n",
       "      <th>numeric_counts</th>\n",
       "      <th>emails</th>\n",
       "      <th>email_count</th>\n",
       "    </tr>\n",
       "  </thead>\n",
       "  <tbody>\n",
       "    <tr>\n",
       "      <th>4054</th>\n",
       "      <td>0</td>\n",
       "      <td>1468735195</td>\n",
       "      <td>Tue Apr 07 03:26:47 PDT 2009</td>\n",
       "      <td>NO_QUERY</td>\n",
       "      <td>gabbyeight</td>\n",
       "      <td>I want a new laptop.  HP TX2000 is the bomb. :...</td>\n",
       "      <td>20</td>\n",
       "      <td>83</td>\n",
       "      <td>4.150000</td>\n",
       "      <td>0</td>\n",
       "      <td>[gabbehhramos@yahoo.com]</td>\n",
       "      <td>1</td>\n",
       "    </tr>\n",
       "    <tr>\n",
       "      <th>7917</th>\n",
       "      <td>0</td>\n",
       "      <td>1470004086</td>\n",
       "      <td>Tue Apr 07 08:03:42 PDT 2009</td>\n",
       "      <td>NO_QUERY</td>\n",
       "      <td>ElleDell</td>\n",
       "      <td>who stole elledell@gmail.com?</td>\n",
       "      <td>3</td>\n",
       "      <td>27</td>\n",
       "      <td>9.000000</td>\n",
       "      <td>0</td>\n",
       "      <td>[elledell@gmail.com]</td>\n",
       "      <td>1</td>\n",
       "    </tr>\n",
       "    <tr>\n",
       "      <th>8496</th>\n",
       "      <td>0</td>\n",
       "      <td>1470213042</td>\n",
       "      <td>Tue Apr 07 08:41:06 PDT 2009</td>\n",
       "      <td>NO_QUERY</td>\n",
       "      <td>missatari</td>\n",
       "      <td>@alexistehpom  really? did you send out all th...</td>\n",
       "      <td>20</td>\n",
       "      <td>110</td>\n",
       "      <td>5.500000</td>\n",
       "      <td>0</td>\n",
       "      <td>[missataari@gmail.com]</td>\n",
       "      <td>1</td>\n",
       "    </tr>\n",
       "    <tr>\n",
       "      <th>10290</th>\n",
       "      <td>0</td>\n",
       "      <td>1550847940</td>\n",
       "      <td>Sat Apr 18 07:26:12 PDT 2009</td>\n",
       "      <td>NO_QUERY</td>\n",
       "      <td>caaaitysarah</td>\n",
       "      <td>@LaureyStack awh...that's kinda sad  lol add m...</td>\n",
       "      <td>8</td>\n",
       "      <td>68</td>\n",
       "      <td>8.500000</td>\n",
       "      <td>0</td>\n",
       "      <td>[hello.kitty.65@hotmail.com]</td>\n",
       "      <td>1</td>\n",
       "    </tr>\n",
       "    <tr>\n",
       "      <th>16413</th>\n",
       "      <td>0</td>\n",
       "      <td>1555904035</td>\n",
       "      <td>Sat Apr 18 21:02:02 PDT 2009</td>\n",
       "      <td>NO_QUERY</td>\n",
       "      <td>kluo</td>\n",
       "      <td>@jilliancyork  got 2 bottom of it, human error...</td>\n",
       "      <td>21</td>\n",
       "      <td>114</td>\n",
       "      <td>5.428571</td>\n",
       "      <td>1</td>\n",
       "      <td>[press@linkedin.com]</td>\n",
       "      <td>1</td>\n",
       "    </tr>\n",
       "    <tr>\n",
       "      <th>...</th>\n",
       "      <td>...</td>\n",
       "      <td>...</td>\n",
       "      <td>...</td>\n",
       "      <td>...</td>\n",
       "      <td>...</td>\n",
       "      <td>...</td>\n",
       "      <td>...</td>\n",
       "      <td>...</td>\n",
       "      <td>...</td>\n",
       "      <td>...</td>\n",
       "      <td>...</td>\n",
       "      <td>...</td>\n",
       "    </tr>\n",
       "    <tr>\n",
       "      <th>1038722</th>\n",
       "      <td>4</td>\n",
       "      <td>1956716320</td>\n",
       "      <td>Thu May 28 22:30:43 PDT 2009</td>\n",
       "      <td>NO_QUERY</td>\n",
       "      <td>michael_mtp</td>\n",
       "      <td>@Bendels &amp;gt; agentmp_04@hotmail.com.. thanks ...</td>\n",
       "      <td>11</td>\n",
       "      <td>75</td>\n",
       "      <td>6.818182</td>\n",
       "      <td>0</td>\n",
       "      <td>[agentmp_04@hotmail.com]</td>\n",
       "      <td>1</td>\n",
       "    </tr>\n",
       "    <tr>\n",
       "      <th>1038969</th>\n",
       "      <td>4</td>\n",
       "      <td>1956745262</td>\n",
       "      <td>Thu May 28 22:35:02 PDT 2009</td>\n",
       "      <td>NO_QUERY</td>\n",
       "      <td>earthboundtea</td>\n",
       "      <td>@TeaBoat  wgworldwide@gmail.com</td>\n",
       "      <td>2</td>\n",
       "      <td>29</td>\n",
       "      <td>14.500000</td>\n",
       "      <td>0</td>\n",
       "      <td>[wgworldwide@gmail.com]</td>\n",
       "      <td>1</td>\n",
       "    </tr>\n",
       "    <tr>\n",
       "      <th>1042442</th>\n",
       "      <td>4</td>\n",
       "      <td>1957204391</td>\n",
       "      <td>Thu May 28 23:48:58 PDT 2009</td>\n",
       "      <td>NO_QUERY</td>\n",
       "      <td>fuelyourapps</td>\n",
       "      <td>@Rawsul fire an email to editor@fuelyourapps.c...</td>\n",
       "      <td>17</td>\n",
       "      <td>87</td>\n",
       "      <td>5.117647</td>\n",
       "      <td>0</td>\n",
       "      <td>[editor@fuelyourapps.com]</td>\n",
       "      <td>1</td>\n",
       "    </tr>\n",
       "    <tr>\n",
       "      <th>1046000</th>\n",
       "      <td>4</td>\n",
       "      <td>1957616863</td>\n",
       "      <td>Fri May 29 01:03:35 PDT 2009</td>\n",
       "      <td>NO_QUERY</td>\n",
       "      <td>Thehodge</td>\n",
       "      <td>okay someone must have a google wave invite to...</td>\n",
       "      <td>12</td>\n",
       "      <td>68</td>\n",
       "      <td>5.666667</td>\n",
       "      <td>0</td>\n",
       "      <td>[dominichodgson@gmail.com]</td>\n",
       "      <td>1</td>\n",
       "    </tr>\n",
       "    <tr>\n",
       "      <th>1046846</th>\n",
       "      <td>4</td>\n",
       "      <td>1957703232</td>\n",
       "      <td>Fri May 29 01:20:12 PDT 2009</td>\n",
       "      <td>NO_QUERY</td>\n",
       "      <td>momoferrari88</td>\n",
       "      <td>http://tinyurl.com/ry9wap Hey! You are nice ) ...</td>\n",
       "      <td>23</td>\n",
       "      <td>115</td>\n",
       "      <td>5.000000</td>\n",
       "      <td>0</td>\n",
       "      <td>[gmail_all@mail.ru]</td>\n",
       "      <td>1</td>\n",
       "    </tr>\n",
       "  </tbody>\n",
       "</table>\n",
       "<p>242 rows × 12 columns</p>\n",
       "</div>"
      ],
      "text/plain": [
       "         Sentiment          Id                          Date      Flag  \\\n",
       "4054             0  1468735195  Tue Apr 07 03:26:47 PDT 2009  NO_QUERY   \n",
       "7917             0  1470004086  Tue Apr 07 08:03:42 PDT 2009  NO_QUERY   \n",
       "8496             0  1470213042  Tue Apr 07 08:41:06 PDT 2009  NO_QUERY   \n",
       "10290            0  1550847940  Sat Apr 18 07:26:12 PDT 2009  NO_QUERY   \n",
       "16413            0  1555904035  Sat Apr 18 21:02:02 PDT 2009  NO_QUERY   \n",
       "...            ...         ...                           ...       ...   \n",
       "1038722          4  1956716320  Thu May 28 22:30:43 PDT 2009  NO_QUERY   \n",
       "1038969          4  1956745262  Thu May 28 22:35:02 PDT 2009  NO_QUERY   \n",
       "1042442          4  1957204391  Thu May 28 23:48:58 PDT 2009  NO_QUERY   \n",
       "1046000          4  1957616863  Fri May 29 01:03:35 PDT 2009  NO_QUERY   \n",
       "1046846          4  1957703232  Fri May 29 01:20:12 PDT 2009  NO_QUERY   \n",
       "\n",
       "                  User                                              Tweet  \\\n",
       "4054        gabbyeight  I want a new laptop.  HP TX2000 is the bomb. :...   \n",
       "7917          ElleDell                    who stole elledell@gmail.com?     \n",
       "8496         missatari  @alexistehpom  really? did you send out all th...   \n",
       "10290     caaaitysarah  @LaureyStack awh...that's kinda sad  lol add m...   \n",
       "16413             kluo  @jilliancyork  got 2 bottom of it, human error...   \n",
       "...                ...                                                ...   \n",
       "1038722    michael_mtp  @Bendels &gt; agentmp_04@hotmail.com.. thanks ...   \n",
       "1038969  earthboundtea                   @TeaBoat  wgworldwide@gmail.com    \n",
       "1042442   fuelyourapps  @Rawsul fire an email to editor@fuelyourapps.c...   \n",
       "1046000       Thehodge  okay someone must have a google wave invite to...   \n",
       "1046846  momoferrari88  http://tinyurl.com/ry9wap Hey! You are nice ) ...   \n",
       "\n",
       "         word counts  char counts  average_word_len  numeric_counts  \\\n",
       "4054              20           83          4.150000               0   \n",
       "7917               3           27          9.000000               0   \n",
       "8496              20          110          5.500000               0   \n",
       "10290              8           68          8.500000               0   \n",
       "16413             21          114          5.428571               1   \n",
       "...              ...          ...               ...             ...   \n",
       "1038722           11           75          6.818182               0   \n",
       "1038969            2           29         14.500000               0   \n",
       "1042442           17           87          5.117647               0   \n",
       "1046000           12           68          5.666667               0   \n",
       "1046846           23          115          5.000000               0   \n",
       "\n",
       "                               emails  email_count  \n",
       "4054         [gabbehhramos@yahoo.com]            1  \n",
       "7917             [elledell@gmail.com]            1  \n",
       "8496           [missataari@gmail.com]            1  \n",
       "10290    [hello.kitty.65@hotmail.com]            1  \n",
       "16413            [press@linkedin.com]            1  \n",
       "...                               ...          ...  \n",
       "1038722      [agentmp_04@hotmail.com]            1  \n",
       "1038969       [wgworldwide@gmail.com]            1  \n",
       "1042442     [editor@fuelyourapps.com]            1  \n",
       "1046000    [dominichodgson@gmail.com]            1  \n",
       "1046846           [gmail_all@mail.ru]            1  \n",
       "\n",
       "[242 rows x 12 columns]"
      ]
     },
     "execution_count": 31,
     "metadata": {},
     "output_type": "execute_result"
    }
   ],
   "source": [
    " # re.findall(r'([a-z0-9+._-]+@[a-z0-9+._-]+\\.[a-z0-9+_-]+)',x)\n",
    "df_copy['emails'] = df_copy['Tweet'].apply(lambda x : re.findall(r'([a-z0-9+._-]+@[a-z0-9+._-]+\\.[a-z0-9+_-]+)',x))\n",
    "df_copy['email_count'] = df_copy['emails'].apply(lambda x : len(x))\n",
    "df_copy[df_copy['email_count']==1]"
   ]
  },
  {
   "cell_type": "code",
   "execution_count": 32,
   "metadata": {},
   "outputs": [],
   "source": [
    "df['Tweet'] = df['Tweet'].apply(lambda x : re.sub(r'([a-z0-9+._-]+@[a-z0-9+._-]+\\.[a-z0-9+_-]+)',\" \",x))"
   ]
  },
  {
   "cell_type": "markdown",
   "metadata": {},
   "source": [
    "Removal of special characters"
   ]
  },
  {
   "cell_type": "code",
   "execution_count": 33,
   "metadata": {},
   "outputs": [],
   "source": [
    "df['Tweet'] = df['Tweet'].apply(lambda x : re.sub(r'[^\\w]+',\" \",x))"
   ]
  },
  {
   "cell_type": "markdown",
   "metadata": {},
   "source": [
    "Remove URLs"
   ]
  },
  {
   "cell_type": "code",
   "execution_count": 34,
   "metadata": {},
   "outputs": [],
   "source": [
    "df['Tweet'] = df['Tweet'].apply(lambda x : re.sub(r'(http|https|ftp|ssh)://([\\w_-]+(?:(?:\\.[\\w_-]+)+))([\\w.,@?^=%&:/~+#-]*[\\w@?^=%&/~+#-])?',\" \",x))"
   ]
  },
  {
   "cell_type": "code",
   "execution_count": 35,
   "metadata": {},
   "outputs": [
    {
     "data": {
      "text/html": [
       "<div>\n",
       "<style scoped>\n",
       "    .dataframe tbody tr th:only-of-type {\n",
       "        vertical-align: middle;\n",
       "    }\n",
       "\n",
       "    .dataframe tbody tr th {\n",
       "        vertical-align: top;\n",
       "    }\n",
       "\n",
       "    .dataframe thead th {\n",
       "        text-align: right;\n",
       "    }\n",
       "</style>\n",
       "<table border=\"1\" class=\"dataframe\">\n",
       "  <thead>\n",
       "    <tr style=\"text-align: right;\">\n",
       "      <th></th>\n",
       "      <th>Sentiment</th>\n",
       "      <th>Id</th>\n",
       "      <th>Date</th>\n",
       "      <th>Flag</th>\n",
       "      <th>User</th>\n",
       "      <th>Tweet</th>\n",
       "    </tr>\n",
       "  </thead>\n",
       "  <tbody>\n",
       "    <tr>\n",
       "      <th>0</th>\n",
       "      <td>0</td>\n",
       "      <td>1467810369</td>\n",
       "      <td>Mon Apr 06 22:19:45 PDT 2009</td>\n",
       "      <td>NO_QUERY</td>\n",
       "      <td>_TheSpecialOne_</td>\n",
       "      <td>switchfoot http twitpic com 2y1zl awww that is...</td>\n",
       "    </tr>\n",
       "    <tr>\n",
       "      <th>1</th>\n",
       "      <td>0</td>\n",
       "      <td>1467810672</td>\n",
       "      <td>Mon Apr 06 22:19:49 PDT 2009</td>\n",
       "      <td>NO_QUERY</td>\n",
       "      <td>scotthamilton</td>\n",
       "      <td>upset cannot update facebook texting it might ...</td>\n",
       "    </tr>\n",
       "    <tr>\n",
       "      <th>2</th>\n",
       "      <td>0</td>\n",
       "      <td>1467810917</td>\n",
       "      <td>Mon Apr 06 22:19:53 PDT 2009</td>\n",
       "      <td>NO_QUERY</td>\n",
       "      <td>mattycus</td>\n",
       "      <td>kenichan i dived many times ball managed save ...</td>\n",
       "    </tr>\n",
       "    <tr>\n",
       "      <th>3</th>\n",
       "      <td>0</td>\n",
       "      <td>1467811184</td>\n",
       "      <td>Mon Apr 06 22:19:57 PDT 2009</td>\n",
       "      <td>NO_QUERY</td>\n",
       "      <td>ElleCTF</td>\n",
       "      <td>whole body feels itchy like fire</td>\n",
       "    </tr>\n",
       "    <tr>\n",
       "      <th>4</th>\n",
       "      <td>0</td>\n",
       "      <td>1467811193</td>\n",
       "      <td>Mon Apr 06 22:19:57 PDT 2009</td>\n",
       "      <td>NO_QUERY</td>\n",
       "      <td>Karoli</td>\n",
       "      <td>nationwideclass no behaving all i am mad here ...</td>\n",
       "    </tr>\n",
       "  </tbody>\n",
       "</table>\n",
       "</div>"
      ],
      "text/plain": [
       "   Sentiment          Id                          Date      Flag  \\\n",
       "0          0  1467810369  Mon Apr 06 22:19:45 PDT 2009  NO_QUERY   \n",
       "1          0  1467810672  Mon Apr 06 22:19:49 PDT 2009  NO_QUERY   \n",
       "2          0  1467810917  Mon Apr 06 22:19:53 PDT 2009  NO_QUERY   \n",
       "3          0  1467811184  Mon Apr 06 22:19:57 PDT 2009  NO_QUERY   \n",
       "4          0  1467811193  Mon Apr 06 22:19:57 PDT 2009  NO_QUERY   \n",
       "\n",
       "              User                                              Tweet  \n",
       "0  _TheSpecialOne_  switchfoot http twitpic com 2y1zl awww that is...  \n",
       "1    scotthamilton  upset cannot update facebook texting it might ...  \n",
       "2         mattycus  kenichan i dived many times ball managed save ...  \n",
       "3          ElleCTF                   whole body feels itchy like fire  \n",
       "4           Karoli  nationwideclass no behaving all i am mad here ...  "
      ]
     },
     "execution_count": 35,
     "metadata": {},
     "output_type": "execute_result"
    }
   ],
   "source": [
    "df.head()"
   ]
  },
  {
   "cell_type": "code",
   "execution_count": 36,
   "metadata": {},
   "outputs": [],
   "source": [
    "df['Tweet'] = df['Tweet'].apply(lambda x : ' '.join(x.split()))"
   ]
  },
  {
   "cell_type": "code",
   "execution_count": 37,
   "metadata": {},
   "outputs": [],
   "source": [
    "from bs4 import BeautifulSoup"
   ]
  },
  {
   "cell_type": "code",
   "execution_count": 38,
   "metadata": {},
   "outputs": [],
   "source": [
    "from bs4 import BeautifulSoup\n",
    "\n",
    "# Assuming df['Tweet'] contains the HTML content\n",
    "df['Tweet'] = df['Tweet'].apply(lambda x: BeautifulSoup(x, 'html.parser').get_text().strip())\n"
   ]
  },
  {
   "cell_type": "markdown",
   "metadata": {},
   "source": [
    "Removal of Accented Characters"
   ]
  },
  {
   "cell_type": "code",
   "execution_count": 39,
   "metadata": {},
   "outputs": [],
   "source": [
    "import unicodedata"
   ]
  },
  {
   "cell_type": "code",
   "execution_count": 40,
   "metadata": {},
   "outputs": [],
   "source": [
    "def remove_accented(x):\n",
    " x = unicodedata.normalize('NFKD',x).encode('ascii','ignore').decode('utf-8','ignore')\n",
    " return x"
   ]
  },
  {
   "cell_type": "code",
   "execution_count": 41,
   "metadata": {},
   "outputs": [
    {
     "data": {
      "text/html": [
       "<div>\n",
       "<style scoped>\n",
       "    .dataframe tbody tr th:only-of-type {\n",
       "        vertical-align: middle;\n",
       "    }\n",
       "\n",
       "    .dataframe tbody tr th {\n",
       "        vertical-align: top;\n",
       "    }\n",
       "\n",
       "    .dataframe thead th {\n",
       "        text-align: right;\n",
       "    }\n",
       "</style>\n",
       "<table border=\"1\" class=\"dataframe\">\n",
       "  <thead>\n",
       "    <tr style=\"text-align: right;\">\n",
       "      <th></th>\n",
       "      <th>Sentiment</th>\n",
       "      <th>Id</th>\n",
       "      <th>Date</th>\n",
       "      <th>Flag</th>\n",
       "      <th>User</th>\n",
       "      <th>Tweet</th>\n",
       "    </tr>\n",
       "  </thead>\n",
       "  <tbody>\n",
       "    <tr>\n",
       "      <th>1048567</th>\n",
       "      <td>4</td>\n",
       "      <td>1960185836</td>\n",
       "      <td>Fri May 29 07:33:40 PDT 2009</td>\n",
       "      <td>NO_QUERY</td>\n",
       "      <td>WindmillBrixton</td>\n",
       "      <td>gringo star tonight southern garage http www f...</td>\n",
       "    </tr>\n",
       "    <tr>\n",
       "      <th>1048568</th>\n",
       "      <td>4</td>\n",
       "      <td>1960185847</td>\n",
       "      <td>Fri May 29 07:33:40 PDT 2009</td>\n",
       "      <td>NO_QUERY</td>\n",
       "      <td>techcoach</td>\n",
       "      <td>davidbass hee hee i will take rain wind chill ...</td>\n",
       "    </tr>\n",
       "    <tr>\n",
       "      <th>1048569</th>\n",
       "      <td>4</td>\n",
       "      <td>1960185945</td>\n",
       "      <td>Fri May 29 07:33:41 PDT 2009</td>\n",
       "      <td>NO_QUERY</td>\n",
       "      <td>timg888</td>\n",
       "      <td>today s message church service delivered via s...</td>\n",
       "    </tr>\n",
       "    <tr>\n",
       "      <th>1048570</th>\n",
       "      <td>4</td>\n",
       "      <td>1960186091</td>\n",
       "      <td>Fri May 29 07:33:42 PDT 2009</td>\n",
       "      <td>NO_QUERY</td>\n",
       "      <td>debraladiva</td>\n",
       "      <td>back home thought i would done week call alter...</td>\n",
       "    </tr>\n",
       "    <tr>\n",
       "      <th>1048571</th>\n",
       "      <td>4</td>\n",
       "      <td>1960186342</td>\n",
       "      <td>Fri May 29 07:33:44 PDT 2009</td>\n",
       "      <td>NO_QUERY</td>\n",
       "      <td>Madelinedugganx</td>\n",
       "      <td>my grandma making dinenr mum</td>\n",
       "    </tr>\n",
       "  </tbody>\n",
       "</table>\n",
       "</div>"
      ],
      "text/plain": [
       "         Sentiment          Id                          Date      Flag  \\\n",
       "1048567          4  1960185836  Fri May 29 07:33:40 PDT 2009  NO_QUERY   \n",
       "1048568          4  1960185847  Fri May 29 07:33:40 PDT 2009  NO_QUERY   \n",
       "1048569          4  1960185945  Fri May 29 07:33:41 PDT 2009  NO_QUERY   \n",
       "1048570          4  1960186091  Fri May 29 07:33:42 PDT 2009  NO_QUERY   \n",
       "1048571          4  1960186342  Fri May 29 07:33:44 PDT 2009  NO_QUERY   \n",
       "\n",
       "                    User                                              Tweet  \n",
       "1048567  WindmillBrixton  gringo star tonight southern garage http www f...  \n",
       "1048568        techcoach  davidbass hee hee i will take rain wind chill ...  \n",
       "1048569          timg888  today s message church service delivered via s...  \n",
       "1048570      debraladiva  back home thought i would done week call alter...  \n",
       "1048571  Madelinedugganx                       my grandma making dinenr mum  "
      ]
     },
     "execution_count": 41,
     "metadata": {},
     "output_type": "execute_result"
    }
   ],
   "source": [
    "df.tail()"
   ]
  },
  {
   "cell_type": "code",
   "execution_count": 42,
   "metadata": {},
   "outputs": [],
   "source": [
    "df['Tweet'] = df['Tweet'].apply(lambda x : remove_accented(x))"
   ]
  },
  {
   "cell_type": "markdown",
   "metadata": {},
   "source": [
    "Common Occurring words Removal"
   ]
  },
  {
   "cell_type": "code",
   "execution_count": 43,
   "metadata": {},
   "outputs": [
    {
     "data": {
      "text/plain": [
       "56512980"
      ]
     },
     "execution_count": 43,
     "metadata": {},
     "output_type": "execute_result"
    }
   ],
   "source": [
    "text = ' '.join(df['Tweet'])\n",
    "len(text)"
   ]
  },
  {
   "cell_type": "code",
   "execution_count": 44,
   "metadata": {},
   "outputs": [],
   "source": [
    "text = text.split()"
   ]
  },
  {
   "cell_type": "code",
   "execution_count": 45,
   "metadata": {},
   "outputs": [
    {
     "data": {
      "text/html": [
       "<div>\n",
       "<style scoped>\n",
       "    .dataframe tbody tr th:only-of-type {\n",
       "        vertical-align: middle;\n",
       "    }\n",
       "\n",
       "    .dataframe tbody tr th {\n",
       "        vertical-align: top;\n",
       "    }\n",
       "\n",
       "    .dataframe thead th {\n",
       "        text-align: right;\n",
       "    }\n",
       "</style>\n",
       "<table border=\"1\" class=\"dataframe\">\n",
       "  <thead>\n",
       "    <tr style=\"text-align: right;\">\n",
       "      <th></th>\n",
       "      <th>Sentiment</th>\n",
       "      <th>Id</th>\n",
       "      <th>Date</th>\n",
       "      <th>Flag</th>\n",
       "      <th>User</th>\n",
       "      <th>Tweet</th>\n",
       "    </tr>\n",
       "  </thead>\n",
       "  <tbody>\n",
       "    <tr>\n",
       "      <th>231542</th>\n",
       "      <td>0</td>\n",
       "      <td>1978984418</td>\n",
       "      <td>Sun May 31 01:10:38 PDT 2009</td>\n",
       "      <td>NO_QUERY</td>\n",
       "      <td>BroLindsay</td>\n",
       "      <td>melbrehl nowhere know web wack phoning</td>\n",
       "    </tr>\n",
       "    <tr>\n",
       "      <th>688799</th>\n",
       "      <td>0</td>\n",
       "      <td>2251610187</td>\n",
       "      <td>Sat Jun 20 04:02:49 PDT 2009</td>\n",
       "      <td>NO_QUERY</td>\n",
       "      <td>mart4hinesy</td>\n",
       "      <td>liamgallagher hola my half jus way slane looki...</td>\n",
       "    </tr>\n",
       "    <tr>\n",
       "      <th>624396</th>\n",
       "      <td>0</td>\n",
       "      <td>2229885844</td>\n",
       "      <td>Thu Jun 18 16:20:39 PDT 2009</td>\n",
       "      <td>NO_QUERY</td>\n",
       "      <td>Jose_Garay</td>\n",
       "      <td>been staying late long think might trade produ...</td>\n",
       "    </tr>\n",
       "    <tr>\n",
       "      <th>712983</th>\n",
       "      <td>0</td>\n",
       "      <td>2258694911</td>\n",
       "      <td>Sat Jun 20 16:20:41 PDT 2009</td>\n",
       "      <td>NO_QUERY</td>\n",
       "      <td>marcib98</td>\n",
       "      <td>know</td>\n",
       "    </tr>\n",
       "    <tr>\n",
       "      <th>105875</th>\n",
       "      <td>0</td>\n",
       "      <td>1823284739</td>\n",
       "      <td>Sat May 16 21:34:14 PDT 2009</td>\n",
       "      <td>NO_QUERY</td>\n",
       "      <td>queen_frostine</td>\n",
       "      <td>spicybrains ouch sorry hon ear problems fly ki...</td>\n",
       "    </tr>\n",
       "    <tr>\n",
       "      <th>865955</th>\n",
       "      <td>4</td>\n",
       "      <td>1677537894</td>\n",
       "      <td>Sat May 02 02:36:59 PDT 2009</td>\n",
       "      <td>NO_QUERY</td>\n",
       "      <td>theluiz</td>\n",
       "      <td>razorianfly your bday</td>\n",
       "    </tr>\n",
       "    <tr>\n",
       "      <th>733165</th>\n",
       "      <td>0</td>\n",
       "      <td>2264248797</td>\n",
       "      <td>Sun Jun 21 03:15:24 PDT 2009</td>\n",
       "      <td>NO_QUERY</td>\n",
       "      <td>rrrollers</td>\n",
       "      <td>stu knees strapped</td>\n",
       "    </tr>\n",
       "    <tr>\n",
       "      <th>511870</th>\n",
       "      <td>0</td>\n",
       "      <td>2190002813</td>\n",
       "      <td>Tue Jun 16 01:29:38 PDT 2009</td>\n",
       "      <td>NO_QUERY</td>\n",
       "      <td>NickkMuch</td>\n",
       "      <td>in library rory 1st nd 2nd nothing do little r...</td>\n",
       "    </tr>\n",
       "    <tr>\n",
       "      <th>122344</th>\n",
       "      <td>0</td>\n",
       "      <td>1833692033</td>\n",
       "      <td>Mon May 18 00:07:33 PDT 2009</td>\n",
       "      <td>NO_QUERY</td>\n",
       "      <td>savethewhaless1</td>\n",
       "      <td>emilycpetrie miss face lot</td>\n",
       "    </tr>\n",
       "    <tr>\n",
       "      <th>803376</th>\n",
       "      <td>4</td>\n",
       "      <td>1468367071</td>\n",
       "      <td>Tue Apr 07 01:14:11 PDT 2009</td>\n",
       "      <td>NO_QUERY</td>\n",
       "      <td>ravogd</td>\n",
       "      <td>in bonnybridge waitin late tnt delivery new sp...</td>\n",
       "    </tr>\n",
       "  </tbody>\n",
       "</table>\n",
       "</div>"
      ],
      "text/plain": [
       "        Sentiment          Id                          Date      Flag  \\\n",
       "231542          0  1978984418  Sun May 31 01:10:38 PDT 2009  NO_QUERY   \n",
       "688799          0  2251610187  Sat Jun 20 04:02:49 PDT 2009  NO_QUERY   \n",
       "624396          0  2229885844  Thu Jun 18 16:20:39 PDT 2009  NO_QUERY   \n",
       "712983          0  2258694911  Sat Jun 20 16:20:41 PDT 2009  NO_QUERY   \n",
       "105875          0  1823284739  Sat May 16 21:34:14 PDT 2009  NO_QUERY   \n",
       "865955          4  1677537894  Sat May 02 02:36:59 PDT 2009  NO_QUERY   \n",
       "733165          0  2264248797  Sun Jun 21 03:15:24 PDT 2009  NO_QUERY   \n",
       "511870          0  2190002813  Tue Jun 16 01:29:38 PDT 2009  NO_QUERY   \n",
       "122344          0  1833692033  Mon May 18 00:07:33 PDT 2009  NO_QUERY   \n",
       "803376          4  1468367071  Tue Apr 07 01:14:11 PDT 2009  NO_QUERY   \n",
       "\n",
       "                   User                                              Tweet  \n",
       "231542       BroLindsay             melbrehl nowhere know web wack phoning  \n",
       "688799      mart4hinesy  liamgallagher hola my half jus way slane looki...  \n",
       "624396       Jose_Garay  been staying late long think might trade produ...  \n",
       "712983         marcib98                                               know  \n",
       "105875   queen_frostine  spicybrains ouch sorry hon ear problems fly ki...  \n",
       "865955          theluiz                              razorianfly your bday  \n",
       "733165        rrrollers                                 stu knees strapped  \n",
       "511870        NickkMuch  in library rory 1st nd 2nd nothing do little r...  \n",
       "122344  savethewhaless1                         emilycpetrie miss face lot  \n",
       "803376           ravogd  in bonnybridge waitin late tnt delivery new sp...  "
      ]
     },
     "execution_count": 45,
     "metadata": {},
     "output_type": "execute_result"
    }
   ],
   "source": [
    "freq_comm = pd.Series(text).value_counts()\n",
    "fre = freq_comm[:20]\n",
    "df['Tweet'] = df['Tweet'].apply(lambda x : ' '.join([w for w in x.split() if w not in fre]))\n",
    "df.sample(10)"
   ]
  },
  {
   "cell_type": "markdown",
   "metadata": {},
   "source": [
    "Rare occuring words removal"
   ]
  },
  {
   "cell_type": "code",
   "execution_count": 46,
   "metadata": {},
   "outputs": [],
   "source": [
    "rare20 = freq_comm.tail(100)"
   ]
  },
  {
   "cell_type": "code",
   "execution_count": 47,
   "metadata": {},
   "outputs": [],
   "source": [
    "df['Tweet'] = df['Tweet'].apply(lambda x : ' '.join([w for w in x.split() if w not in rare20]))"
   ]
  },
  {
   "cell_type": "code",
   "execution_count": 48,
   "metadata": {},
   "outputs": [],
   "source": [
    "from wordcloud import WordCloud\n",
    "import matplotlib.pyplot as plt\n",
    "%matplotlib inline"
   ]
  },
  {
   "cell_type": "code",
   "execution_count": 49,
   "metadata": {},
   "outputs": [],
   "source": [
    "neg_Tweet = df[df[\"Sentiment\"]==0]"
   ]
  },
  {
   "cell_type": "code",
   "execution_count": 50,
   "metadata": {},
   "outputs": [],
   "source": [
    "neg_text = ' '.join(neg_Tweet['Tweet'])"
   ]
  },
  {
   "cell_type": "code",
   "execution_count": 51,
   "metadata": {},
   "outputs": [
    {
     "data": {
      "image/png": "[encoded data removed]",
      "text/plain": [
       "<Figure size 640x480 with 1 Axes>"
      ]
     },
     "metadata": {},
     "output_type": "display_data"
    }
   ],
   "source": [
    "wc = WordCloud(width = 800,height = 400).generate(neg_text)\n",
    "plt.imshow(wc)\n",
    "plt.axis('off')\n",
    "plt.show()"
   ]
  },
  {
   "cell_type": "code",
   "execution_count": 52,
   "metadata": {},
   "outputs": [],
   "source": [
    "pos_Tweet = df[df['Sentiment']==4]"
   ]
  },
  {
   "cell_type": "code",
   "execution_count": 53,
   "metadata": {},
   "outputs": [],
   "source": [
    "pos_text = \" \".join(pos_Tweet['Tweet'])"
   ]
  },
  {
   "cell_type": "code",
   "execution_count": 54,
   "metadata": {},
   "outputs": [
    {
     "data": {
      "image/png": "[encoded data removed]",
      "text/plain": [
       "<Figure size 640x480 with 1 Axes>"
      ]
     },
     "metadata": {},
     "output_type": "display_data"
    }
   ],
   "source": [
    "if not pos_text.strip():  # Check if pos_text is empty or just whitespace\n",
    "    print(\"No words found in pos_text.\")\n",
    "else:\n",
    "    pos_wc = WordCloud(width = 800, height = 400).generate(pos_text)\n",
    "    plt.imshow(pos_wc, interpolation = 'bilinear')\n",
    "    plt.axis('off')"
   ]
  },
  {
   "cell_type": "code",
   "execution_count": 55,
   "metadata": {},
   "outputs": [
    {
     "data": {
      "text/plain": [
       "Sentiment\n",
       "0    800000\n",
       "4    248572\n",
       "Name: count, dtype: int64"
      ]
     },
     "execution_count": 55,
     "metadata": {},
     "output_type": "execute_result"
    }
   ],
   "source": [
    "df['Sentiment'].value_counts()"
   ]
  },
  {
   "cell_type": "markdown",
   "metadata": {},
   "source": [
    "Training algorithm for sentiment analysis"
   ]
  },
  {
   "cell_type": "code",
   "execution_count": 56,
   "metadata": {},
   "outputs": [],
   "source": [
    "from sklearn.svm import LinearSVC\n",
    "from sklearn.feature_extraction.text import TfidfVectorizer\n",
    "from sklearn.model_selection import train_test_split, GridSearchCV\n",
    "from sklearn.metrics import accuracy_score, classification_report, confusion_matrix"
   ]
  },
  {
   "cell_type": "code",
   "execution_count": 57,
   "metadata": {},
   "outputs": [],
   "source": [
    "X = df['Tweet']\n",
    "y = df['Sentiment']"
   ]
  },
  {
   "cell_type": "code",
   "execution_count": 58,
   "metadata": {},
   "outputs": [],
   "source": [
    "\n",
    "tfidf = TfidfVectorizer(norm = 'l1')"
   ]
  },
  {
   "cell_type": "code",
   "execution_count": 59,
   "metadata": {},
   "outputs": [],
   "source": [
    "X = tfidf.fit_transform(X)"
   ]
  },
  {
   "cell_type": "code",
   "execution_count": 60,
   "metadata": {},
   "outputs": [],
   "source": [
    "X_train,X_test,y_train,y_test = train_test_split(X, y, test_size=0.2, random_state=2, stratify=y)"
   ]
  },
  {
   "cell_type": "code",
   "execution_count": 61,
   "metadata": {},
   "outputs": [
    {
     "data": {
      "text/plain": [
       "<838857x481323 sparse matrix of type '<class 'numpy.float64'>'\n",
       "\twith 6328162 stored elements in Compressed Sparse Row format>"
      ]
     },
     "execution_count": 61,
     "metadata": {},
     "output_type": "execute_result"
    }
   ],
   "source": [
    "X_train"
   ]
  },
  {
   "cell_type": "code",
   "execution_count": 62,
   "metadata": {},
   "outputs": [
    {
     "data": {
      "text/html": [
       "<style>#sk-container-id-1 {color: black;}#sk-container-id-1 pre{padding: 0;}#sk-container-id-1 div.sk-toggleable {background-color: white;}#sk-container-id-1 label.sk-toggleable__label {cursor: pointer;display: block;width: 100%;margin-bottom: 0;padding: 0.3em;box-sizing: border-box;text-align: center;}#sk-container-id-1 label.sk-toggleable__label-arrow:before {content: \"▸\";float: left;margin-right: 0.25em;color: #696969;}#sk-container-id-1 label.sk-toggleable__label-arrow:hover:before {color: black;}#sk-container-id-1 div.sk-estimator:hover label.sk-toggleable__label-arrow:before {color: black;}#sk-container-id-1 div.sk-toggleable__content {max-height: 0;max-width: 0;overflow: hidden;text-align: left;background-color: #f0f8ff;}#sk-container-id-1 div.sk-toggleable__content pre {margin: 0.2em;color: black;border-radius: 0.25em;background-color: #f0f8ff;}#sk-container-id-1 input.sk-toggleable__control:checked~div.sk-toggleable__content {max-height: 200px;max-width: 100%;overflow: auto;}#sk-container-id-1 input.sk-toggleable__control:checked~label.sk-toggleable__label-arrow:before {content: \"▾\";}#sk-container-id-1 div.sk-estimator input.sk-toggleable__control:checked~label.sk-toggleable__label {background-color: #d4ebff;}#sk-container-id-1 div.sk-label input.sk-toggleable__control:checked~label.sk-toggleable__label {background-color: #d4ebff;}#sk-container-id-1 input.sk-hidden--visually {border: 0;clip: rect(1px 1px 1px 1px);clip: rect(1px, 1px, 1px, 1px);height: 1px;margin: -1px;overflow: hidden;padding: 0;position: absolute;width: 1px;}#sk-container-id-1 div.sk-estimator {font-family: monospace;background-color: #f0f8ff;border: 1px dotted black;border-radius: 0.25em;box-sizing: border-box;margin-bottom: 0.5em;}#sk-container-id-1 div.sk-estimator:hover {background-color: #d4ebff;}#sk-container-id-1 div.sk-parallel-item::after {content: \"\";width: 100%;border-bottom: 1px solid gray;flex-grow: 1;}#sk-container-id-1 div.sk-label:hover label.sk-toggleable__label {background-color: #d4ebff;}#sk-container-id-1 div.sk-serial::before {content: \"\";position: absolute;border-left: 1px solid gray;box-sizing: border-box;top: 0;bottom: 0;left: 50%;z-index: 0;}#sk-container-id-1 div.sk-serial {display: flex;flex-direction: column;align-items: center;background-color: white;padding-right: 0.2em;padding-left: 0.2em;position: relative;}#sk-container-id-1 div.sk-item {position: relative;z-index: 1;}#sk-container-id-1 div.sk-parallel {display: flex;align-items: stretch;justify-content: center;background-color: white;position: relative;}#sk-container-id-1 div.sk-item::before, #sk-container-id-1 div.sk-parallel-item::before {content: \"\";position: absolute;border-left: 1px solid gray;box-sizing: border-box;top: 0;bottom: 0;left: 50%;z-index: -1;}#sk-container-id-1 div.sk-parallel-item {display: flex;flex-direction: column;z-index: 1;position: relative;background-color: white;}#sk-container-id-1 div.sk-parallel-item:first-child::after {align-self: flex-end;width: 50%;}#sk-container-id-1 div.sk-parallel-item:last-child::after {align-self: flex-start;width: 50%;}#sk-container-id-1 div.sk-parallel-item:only-child::after {width: 0;}#sk-container-id-1 div.sk-dashed-wrapped {border: 1px dashed gray;margin: 0 0.4em 0.5em 0.4em;box-sizing: border-box;padding-bottom: 0.4em;background-color: white;}#sk-container-id-1 div.sk-label label {font-family: monospace;font-weight: bold;display: inline-block;line-height: 1.2em;}#sk-container-id-1 div.sk-label-container {text-align: center;}#sk-container-id-1 div.sk-container {/* jupyter's `normalize.less` sets `[hidden] { display: none; }` but bootstrap.min.css set `[hidden] { display: none !important; }` so we also need the `!important` here to be able to override the default hidden behavior on the sphinx rendered scikit-learn.org. See: https://github.com/scikit-learn/scikit-learn/issues/21755 */display: inline-block !important;position: relative;}#sk-container-id-1 div.sk-text-repr-fallback {display: none;}</style><div id=\"sk-container-id-1\" class=\"sk-top-container\"><div class=\"sk-text-repr-fallback\"><pre>LinearSVC()</pre><b>In a Jupyter environment, please rerun this cell to show the HTML representation or trust the notebook. <br />On GitHub, the HTML representation is unable to render, please try loading this page with nbviewer.org.</b></div><div class=\"sk-container\" hidden><div class=\"sk-item\"><div class=\"sk-estimator sk-toggleable\"><input class=\"sk-toggleable__control sk-hidden--visually\" id=\"sk-estimator-id-1\" type=\"checkbox\" checked><label for=\"sk-estimator-id-1\" class=\"sk-toggleable__label sk-toggleable__label-arrow\">LinearSVC</label><div class=\"sk-toggleable__content\"><pre>LinearSVC()</pre></div></div></div></div></div>"
      ],
      "text/plain": [
       "LinearSVC()"
      ]
     },
     "execution_count": 62,
     "metadata": {},
     "output_type": "execute_result"
    }
   ],
   "source": [
    "model_svm = LinearSVC()\n",
    "model_svm.fit(X_train,y_train)"
   ]
  },
  {
   "cell_type": "markdown",
   "metadata": {},
   "source": [
    "In a Jupyter environment, please rerun this cell to show the HTML representation or trust the notebook.\n",
    "On GitHub, the HTML representation is unable to render, please try loading this page with nbviewer.org."
   ]
  },
  {
   "cell_type": "code",
   "execution_count": 63,
   "metadata": {},
   "outputs": [],
   "source": [
    "y_pred = model_svm.predict(X_test)\n"
   ]
  },
  {
   "cell_type": "code",
   "execution_count": 64,
   "metadata": {},
   "outputs": [
    {
     "name": "stdout",
     "output_type": "stream",
     "text": [
      "0.836220585079751\n"
     ]
    }
   ],
   "source": [
    "acc_score = accuracy_score(y_test,y_pred)\n",
    "print(acc_score)"
   ]
  },
  {
   "cell_type": "code",
   "execution_count": 65,
   "metadata": {},
   "outputs": [
    {
     "name": "stdout",
     "output_type": "stream",
     "text": [
      "              precision    recall  f1-score   support\n",
      "\n",
      "           0       0.85      0.96      0.90    160000\n",
      "           4       0.76      0.45      0.57     49715\n",
      "\n",
      "    accuracy                           0.84    209715\n",
      "   macro avg       0.80      0.70      0.73    209715\n",
      "weighted avg       0.83      0.84      0.82    209715\n",
      "\n"
     ]
    }
   ],
   "source": [
    "print(classification_report(y_test,y_pred))"
   ]
  },
  {
   "cell_type": "code",
   "execution_count": 66,
   "metadata": {},
   "outputs": [
    {
     "name": "stdout",
     "output_type": "stream",
     "text": [
      "[[152858   7142]\n",
      " [ 27205  22510]]\n"
     ]
    }
   ],
   "source": [
    "print(confusion_matrix(y_test,y_pred))"
   ]
  },
  {
   "cell_type": "code",
   "execution_count": 67,
   "metadata": {},
   "outputs": [],
   "source": [
    "x = ['i am really happy. that you came with me']"
   ]
  },
  {
   "cell_type": "code",
   "execution_count": 68,
   "metadata": {},
   "outputs": [
    {
     "data": {
      "text/plain": [
       "0"
      ]
     },
     "execution_count": 68,
     "metadata": {},
     "output_type": "execute_result"
    }
   ],
   "source": [
    "model_svm.predict(tfidf.transform(x))[0]"
   ]
  },
  {
   "cell_type": "markdown",
   "metadata": {},
   "source": [
    "Hyperparameter tuning"
   ]
  },
  {
   "cell_type": "code",
   "execution_count": 69,
   "metadata": {},
   "outputs": [],
   "source": [
    "params = {\n",
    "    'penalty' : ['l1','l2'],\n",
    "    'loss' : ['higne','squared_hinge'],\n",
    "    'dual' : ['auto',True,False],\n",
    "    'tol' : [0.1,0.01,0.001],\n",
    "    'C' : [1.0,2.0]\n",
    " }"
   ]
  },
  {
   "cell_type": "code",
   "execution_count": 70,
   "metadata": {},
   "outputs": [],
   "source": [
    "gs = GridSearchCV(estimator = LinearSVC(), param_grid=params)"
   ]
  },
  {
   "cell_type": "code",
   "execution_count": 71,
   "metadata": {},
   "outputs": [
    {
     "data": {
      "text/html": [
       "<style>#sk-container-id-2 {color: black;}#sk-container-id-2 pre{padding: 0;}#sk-container-id-2 div.sk-toggleable {background-color: white;}#sk-container-id-2 label.sk-toggleable__label {cursor: pointer;display: block;width: 100%;margin-bottom: 0;padding: 0.3em;box-sizing: border-box;text-align: center;}#sk-container-id-2 label.sk-toggleable__label-arrow:before {content: \"▸\";float: left;margin-right: 0.25em;color: #696969;}#sk-container-id-2 label.sk-toggleable__label-arrow:hover:before {color: black;}#sk-container-id-2 div.sk-estimator:hover label.sk-toggleable__label-arrow:before {color: black;}#sk-container-id-2 div.sk-toggleable__content {max-height: 0;max-width: 0;overflow: hidden;text-align: left;background-color: #f0f8ff;}#sk-container-id-2 div.sk-toggleable__content pre {margin: 0.2em;color: black;border-radius: 0.25em;background-color: #f0f8ff;}#sk-container-id-2 input.sk-toggleable__control:checked~div.sk-toggleable__content {max-height: 200px;max-width: 100%;overflow: auto;}#sk-container-id-2 input.sk-toggleable__control:checked~label.sk-toggleable__label-arrow:before {content: \"▾\";}#sk-container-id-2 div.sk-estimator input.sk-toggleable__control:checked~label.sk-toggleable__label {background-color: #d4ebff;}#sk-container-id-2 div.sk-label input.sk-toggleable__control:checked~label.sk-toggleable__label {background-color: #d4ebff;}#sk-container-id-2 input.sk-hidden--visually {border: 0;clip: rect(1px 1px 1px 1px);clip: rect(1px, 1px, 1px, 1px);height: 1px;margin: -1px;overflow: hidden;padding: 0;position: absolute;width: 1px;}#sk-container-id-2 div.sk-estimator {font-family: monospace;background-color: #f0f8ff;border: 1px dotted black;border-radius: 0.25em;box-sizing: border-box;margin-bottom: 0.5em;}#sk-container-id-2 div.sk-estimator:hover {background-color: #d4ebff;}#sk-container-id-2 div.sk-parallel-item::after {content: \"\";width: 100%;border-bottom: 1px solid gray;flex-grow: 1;}#sk-container-id-2 div.sk-label:hover label.sk-toggleable__label {background-color: #d4ebff;}#sk-container-id-2 div.sk-serial::before {content: \"\";position: absolute;border-left: 1px solid gray;box-sizing: border-box;top: 0;bottom: 0;left: 50%;z-index: 0;}#sk-container-id-2 div.sk-serial {display: flex;flex-direction: column;align-items: center;background-color: white;padding-right: 0.2em;padding-left: 0.2em;position: relative;}#sk-container-id-2 div.sk-item {position: relative;z-index: 1;}#sk-container-id-2 div.sk-parallel {display: flex;align-items: stretch;justify-content: center;background-color: white;position: relative;}#sk-container-id-2 div.sk-item::before, #sk-container-id-2 div.sk-parallel-item::before {content: \"\";position: absolute;border-left: 1px solid gray;box-sizing: border-box;top: 0;bottom: 0;left: 50%;z-index: -1;}#sk-container-id-2 div.sk-parallel-item {display: flex;flex-direction: column;z-index: 1;position: relative;background-color: white;}#sk-container-id-2 div.sk-parallel-item:first-child::after {align-self: flex-end;width: 50%;}#sk-container-id-2 div.sk-parallel-item:last-child::after {align-self: flex-start;width: 50%;}#sk-container-id-2 div.sk-parallel-item:only-child::after {width: 0;}#sk-container-id-2 div.sk-dashed-wrapped {border: 1px dashed gray;margin: 0 0.4em 0.5em 0.4em;box-sizing: border-box;padding-bottom: 0.4em;background-color: white;}#sk-container-id-2 div.sk-label label {font-family: monospace;font-weight: bold;display: inline-block;line-height: 1.2em;}#sk-container-id-2 div.sk-label-container {text-align: center;}#sk-container-id-2 div.sk-container {/* jupyter's `normalize.less` sets `[hidden] { display: none; }` but bootstrap.min.css set `[hidden] { display: none !important; }` so we also need the `!important` here to be able to override the default hidden behavior on the sphinx rendered scikit-learn.org. See: https://github.com/scikit-learn/scikit-learn/issues/21755 */display: inline-block !important;position: relative;}#sk-container-id-2 div.sk-text-repr-fallback {display: none;}</style><div id=\"sk-container-id-2\" class=\"sk-top-container\"><div class=\"sk-text-repr-fallback\"><pre>GridSearchCV(estimator=LinearSVC(),\n",
       "             param_grid={&#x27;C&#x27;: [1.0, 2.0], &#x27;dual&#x27;: [&#x27;auto&#x27;, True, False],\n",
       "                         &#x27;loss&#x27;: [&#x27;higne&#x27;, &#x27;squared_hinge&#x27;],\n",
       "                         &#x27;penalty&#x27;: [&#x27;l1&#x27;, &#x27;l2&#x27;], &#x27;tol&#x27;: [0.1, 0.01, 0.001]})</pre><b>In a Jupyter environment, please rerun this cell to show the HTML representation or trust the notebook. <br />On GitHub, the HTML representation is unable to render, please try loading this page with nbviewer.org.</b></div><div class=\"sk-container\" hidden><div class=\"sk-item sk-dashed-wrapped\"><div class=\"sk-label-container\"><div class=\"sk-label sk-toggleable\"><input class=\"sk-toggleable__control sk-hidden--visually\" id=\"sk-estimator-id-2\" type=\"checkbox\" ><label for=\"sk-estimator-id-2\" class=\"sk-toggleable__label sk-toggleable__label-arrow\">GridSearchCV</label><div class=\"sk-toggleable__content\"><pre>GridSearchCV(estimator=LinearSVC(),\n",
       "             param_grid={&#x27;C&#x27;: [1.0, 2.0], &#x27;dual&#x27;: [&#x27;auto&#x27;, True, False],\n",
       "                         &#x27;loss&#x27;: [&#x27;higne&#x27;, &#x27;squared_hinge&#x27;],\n",
       "                         &#x27;penalty&#x27;: [&#x27;l1&#x27;, &#x27;l2&#x27;], &#x27;tol&#x27;: [0.1, 0.01, 0.001]})</pre></div></div></div><div class=\"sk-parallel\"><div class=\"sk-parallel-item\"><div class=\"sk-item\"><div class=\"sk-label-container\"><div class=\"sk-label sk-toggleable\"><input class=\"sk-toggleable__control sk-hidden--visually\" id=\"sk-estimator-id-3\" type=\"checkbox\" ><label for=\"sk-estimator-id-3\" class=\"sk-toggleable__label sk-toggleable__label-arrow\">estimator: LinearSVC</label><div class=\"sk-toggleable__content\"><pre>LinearSVC()</pre></div></div></div><div class=\"sk-serial\"><div class=\"sk-item\"><div class=\"sk-estimator sk-toggleable\"><input class=\"sk-toggleable__control sk-hidden--visually\" id=\"sk-estimator-id-4\" type=\"checkbox\" ><label for=\"sk-estimator-id-4\" class=\"sk-toggleable__label sk-toggleable__label-arrow\">LinearSVC</label><div class=\"sk-toggleable__content\"><pre>LinearSVC()</pre></div></div></div></div></div></div></div></div></div></div>"
      ],
      "text/plain": [
       "GridSearchCV(estimator=LinearSVC(),\n",
       "             param_grid={'C': [1.0, 2.0], 'dual': ['auto', True, False],\n",
       "                         'loss': ['higne', 'squared_hinge'],\n",
       "                         'penalty': ['l1', 'l2'], 'tol': [0.1, 0.01, 0.001]})"
      ]
     },
     "execution_count": 71,
     "metadata": {},
     "output_type": "execute_result"
    }
   ],
   "source": [
    "gs.fit(X,y)"
   ]
  },
  {
   "cell_type": "markdown",
   "metadata": {},
   "source": [
    "In a Jupyter environment, please rerun this cell to show the HTML representation or trust the notebook.\n",
    "On GitHub, the HTML representation is unable to render, please try loading this page with nbviewer.org."
   ]
  },
  {
   "cell_type": "code",
   "execution_count": 72,
   "metadata": {},
   "outputs": [
    {
     "data": {
      "text/plain": [
       "{'C': 1.0, 'dual': True, 'loss': 'squared_hinge', 'penalty': 'l2', 'tol': 0.01}"
      ]
     },
     "execution_count": 72,
     "metadata": {},
     "output_type": "execute_result"
    }
   ],
   "source": [
    "gs.best_params_"
   ]
  },
  {
   "cell_type": "code",
   "execution_count": 73,
   "metadata": {},
   "outputs": [],
   "source": [
    "model_svm_h = LinearSVC(penalty='l1',C = 1.0, dual=False, loss = 'squared_hinge', tol=0.1)"
   ]
  },
  {
   "cell_type": "code",
   "execution_count": 74,
   "metadata": {},
   "outputs": [
    {
     "data": {
      "text/html": [
       "<style>#sk-container-id-3 {color: black;}#sk-container-id-3 pre{padding: 0;}#sk-container-id-3 div.sk-toggleable {background-color: white;}#sk-container-id-3 label.sk-toggleable__label {cursor: pointer;display: block;width: 100%;margin-bottom: 0;padding: 0.3em;box-sizing: border-box;text-align: center;}#sk-container-id-3 label.sk-toggleable__label-arrow:before {content: \"▸\";float: left;margin-right: 0.25em;color: #696969;}#sk-container-id-3 label.sk-toggleable__label-arrow:hover:before {color: black;}#sk-container-id-3 div.sk-estimator:hover label.sk-toggleable__label-arrow:before {color: black;}#sk-container-id-3 div.sk-toggleable__content {max-height: 0;max-width: 0;overflow: hidden;text-align: left;background-color: #f0f8ff;}#sk-container-id-3 div.sk-toggleable__content pre {margin: 0.2em;color: black;border-radius: 0.25em;background-color: #f0f8ff;}#sk-container-id-3 input.sk-toggleable__control:checked~div.sk-toggleable__content {max-height: 200px;max-width: 100%;overflow: auto;}#sk-container-id-3 input.sk-toggleable__control:checked~label.sk-toggleable__label-arrow:before {content: \"▾\";}#sk-container-id-3 div.sk-estimator input.sk-toggleable__control:checked~label.sk-toggleable__label {background-color: #d4ebff;}#sk-container-id-3 div.sk-label input.sk-toggleable__control:checked~label.sk-toggleable__label {background-color: #d4ebff;}#sk-container-id-3 input.sk-hidden--visually {border: 0;clip: rect(1px 1px 1px 1px);clip: rect(1px, 1px, 1px, 1px);height: 1px;margin: -1px;overflow: hidden;padding: 0;position: absolute;width: 1px;}#sk-container-id-3 div.sk-estimator {font-family: monospace;background-color: #f0f8ff;border: 1px dotted black;border-radius: 0.25em;box-sizing: border-box;margin-bottom: 0.5em;}#sk-container-id-3 div.sk-estimator:hover {background-color: #d4ebff;}#sk-container-id-3 div.sk-parallel-item::after {content: \"\";width: 100%;border-bottom: 1px solid gray;flex-grow: 1;}#sk-container-id-3 div.sk-label:hover label.sk-toggleable__label {background-color: #d4ebff;}#sk-container-id-3 div.sk-serial::before {content: \"\";position: absolute;border-left: 1px solid gray;box-sizing: border-box;top: 0;bottom: 0;left: 50%;z-index: 0;}#sk-container-id-3 div.sk-serial {display: flex;flex-direction: column;align-items: center;background-color: white;padding-right: 0.2em;padding-left: 0.2em;position: relative;}#sk-container-id-3 div.sk-item {position: relative;z-index: 1;}#sk-container-id-3 div.sk-parallel {display: flex;align-items: stretch;justify-content: center;background-color: white;position: relative;}#sk-container-id-3 div.sk-item::before, #sk-container-id-3 div.sk-parallel-item::before {content: \"\";position: absolute;border-left: 1px solid gray;box-sizing: border-box;top: 0;bottom: 0;left: 50%;z-index: -1;}#sk-container-id-3 div.sk-parallel-item {display: flex;flex-direction: column;z-index: 1;position: relative;background-color: white;}#sk-container-id-3 div.sk-parallel-item:first-child::after {align-self: flex-end;width: 50%;}#sk-container-id-3 div.sk-parallel-item:last-child::after {align-self: flex-start;width: 50%;}#sk-container-id-3 div.sk-parallel-item:only-child::after {width: 0;}#sk-container-id-3 div.sk-dashed-wrapped {border: 1px dashed gray;margin: 0 0.4em 0.5em 0.4em;box-sizing: border-box;padding-bottom: 0.4em;background-color: white;}#sk-container-id-3 div.sk-label label {font-family: monospace;font-weight: bold;display: inline-block;line-height: 1.2em;}#sk-container-id-3 div.sk-label-container {text-align: center;}#sk-container-id-3 div.sk-container {/* jupyter's `normalize.less` sets `[hidden] { display: none; }` but bootstrap.min.css set `[hidden] { display: none !important; }` so we also need the `!important` here to be able to override the default hidden behavior on the sphinx rendered scikit-learn.org. See: https://github.com/scikit-learn/scikit-learn/issues/21755 */display: inline-block !important;position: relative;}#sk-container-id-3 div.sk-text-repr-fallback {display: none;}</style><div id=\"sk-container-id-3\" class=\"sk-top-container\"><div class=\"sk-text-repr-fallback\"><pre>LinearSVC(dual=False, penalty=&#x27;l1&#x27;, tol=0.1)</pre><b>In a Jupyter environment, please rerun this cell to show the HTML representation or trust the notebook. <br />On GitHub, the HTML representation is unable to render, please try loading this page with nbviewer.org.</b></div><div class=\"sk-container\" hidden><div class=\"sk-item\"><div class=\"sk-estimator sk-toggleable\"><input class=\"sk-toggleable__control sk-hidden--visually\" id=\"sk-estimator-id-5\" type=\"checkbox\" checked><label for=\"sk-estimator-id-5\" class=\"sk-toggleable__label sk-toggleable__label-arrow\">LinearSVC</label><div class=\"sk-toggleable__content\"><pre>LinearSVC(dual=False, penalty=&#x27;l1&#x27;, tol=0.1)</pre></div></div></div></div></div>"
      ],
      "text/plain": [
       "LinearSVC(dual=False, penalty='l1', tol=0.1)"
      ]
     },
     "execution_count": 74,
     "metadata": {},
     "output_type": "execute_result"
    }
   ],
   "source": [
    "model_svm_h.fit(X_train,y_train)"
   ]
  },
  {
   "cell_type": "markdown",
   "metadata": {},
   "source": [
    "In a Jupyter environment, please rerun this cell to show the HTML representation or trust the notebook.\n",
    "On GitHub, the HTML representation is unable to render, please try loading this page with nbviewer.org."
   ]
  },
  {
   "cell_type": "code",
   "execution_count": 75,
   "metadata": {},
   "outputs": [],
   "source": [
    "y_pred_n = model_svm_h.predict(X_test)"
   ]
  },
  {
   "cell_type": "code",
   "execution_count": 76,
   "metadata": {},
   "outputs": [
    {
     "name": "stdout",
     "output_type": "stream",
     "text": [
      "0.8355100970364542\n"
     ]
    }
   ],
   "source": [
    "print(accuracy_score(y_test,y_pred_n))"
   ]
  },
  {
   "cell_type": "code",
   "execution_count": 77,
   "metadata": {},
   "outputs": [
    {
     "name": "stdout",
     "output_type": "stream",
     "text": [
      "              precision    recall  f1-score   support\n",
      "\n",
      "           0       0.85      0.95      0.90    160000\n",
      "           4       0.75      0.46      0.57     49715\n",
      "\n",
      "    accuracy                           0.84    209715\n",
      "   macro avg       0.80      0.71      0.73    209715\n",
      "weighted avg       0.83      0.84      0.82    209715\n",
      "\n"
     ]
    }
   ],
   "source": [
    "print(classification_report(y_test,y_pred_n))"
   ]
  },
  {
   "cell_type": "code",
   "execution_count": 78,
   "metadata": {},
   "outputs": [
    {
     "name": "stdout",
     "output_type": "stream",
     "text": [
      "[[152858   7142]\n",
      " [ 27205  22510]]\n"
     ]
    }
   ],
   "source": [
    "print(confusion_matrix(y_test,y_pred))"
   ]
  },
  {
   "cell_type": "code",
   "execution_count": 79,
   "metadata": {},
   "outputs": [],
   "source": [
    "\n",
    "x = ['i am really happy. that you came with me']"
   ]
  },
  {
   "cell_type": "code",
   "execution_count": 80,
   "metadata": {},
   "outputs": [
    {
     "data": {
      "text/plain": [
       "0"
      ]
     },
     "execution_count": 80,
     "metadata": {},
     "output_type": "execute_result"
    }
   ],
   "source": [
    "model_svm.predict(tfidf.transform(x))[0]"
   ]
  },
  {
   "cell_type": "code",
   "execution_count": 81,
   "metadata": {},
   "outputs": [
    {
     "name": "stdout",
     "output_type": "stream",
     "text": [
      "Accuracy Score: 0.7631070738859881\n",
      "Classification Report:\n",
      "              precision    recall  f1-score   support\n",
      "\n",
      "           0       0.76      1.00      0.87    160000\n",
      "           4       0.55      0.00      0.01     49715\n",
      "\n",
      "    accuracy                           0.76    209715\n",
      "   macro avg       0.66      0.50      0.44    209715\n",
      "weighted avg       0.71      0.76      0.66    209715\n",
      "\n"
     ]
    }
   ],
   "source": [
    "import scipy.sparse\n",
    "from sklearn.feature_extraction.text import TfidfVectorizer\n",
    "from sklearn.model_selection import train_test_split\n",
    "from sklearn.svm import LinearSVC\n",
    "from sklearn.metrics import accuracy_score, classification_report\n",
    "\n",
    "def run_svm(df):\n",
    "    X = df['Tweet']\n",
    "    y = df['Sentiment']\n",
    "    \n",
    "    # Reduce max_features\n",
    "    tfidf = TfidfVectorizer(norm='l1', ngram_range=(1, 5), analyzer='word', max_features=1000)\n",
    "    \n",
    "    # Process data in batches\n",
    "    batch_size = 1000\n",
    "    X_batches = [tfidf.fit_transform(X[i:i+batch_size]) for i in range(0, len(X), batch_size)]\n",
    "    \n",
    "    # Concatenate sparse matrices\n",
    "    X_concat = scipy.sparse.vstack(X_batches)\n",
    "    \n",
    "    X_train, X_test, y_train, y_test = train_test_split(X_concat, y[:X_concat.shape[0]], test_size=0.2, random_state=2, stratify=y[:X_concat.shape[0]])\n",
    "    \n",
    "    clf = LinearSVC(penalty='l1', C=1.0, dual=False, loss='squared_hinge', tol=0.1)\n",
    "    clf.fit(X_train, y_train)\n",
    "    \n",
    "    y_pred = clf.predict(X_test)\n",
    "    print('Accuracy Score:', accuracy_score(y_test, y_pred))\n",
    "    print('Classification Report:')\n",
    "    print(classification_report(y_test, y_pred))\n",
    "    \n",
    "    return tfidf, clf\n",
    "\n",
    "tfidf, clf = run_svm(df)\n",
    "\n",
    "\n"
   ]
  },
  {
   "cell_type": "code",
   "execution_count": 82,
   "metadata": {},
   "outputs": [
    {
     "data": {
      "text/plain": [
       "array([0], dtype=int64)"
      ]
     },
     "execution_count": 82,
     "metadata": {},
     "output_type": "execute_result"
    }
   ],
   "source": [
    "clf.predict(tfidf.transform(x))"
   ]
  },
  {
   "cell_type": "code",
   "execution_count": 83,
   "metadata": {},
   "outputs": [],
   "source": [
    "import pickle"
   ]
  },
  {
   "cell_type": "code",
   "execution_count": 84,
   "metadata": {},
   "outputs": [],
   "source": [
    "pickle.dump(clf,open('clf.pkl','wb'))\n",
    "pickle.dump(tfidf,open('tfidf.pkl','wb'))"
   ]
  },
  {
   "cell_type": "code",
   "execution_count": 85,
   "metadata": {},
   "outputs": [],
   "source": [
    "clf = pickle.load(open('clf.pkl','rb'))\n",
    "tfidf = pickle.load(open('tfidf.pkl','rb'))"
   ]
  },
  {
   "cell_type": "code",
   "execution_count": 86,
   "metadata": {},
   "outputs": [],
   "source": [
    "x = ['i am really happy. that you came with me']\n",
    "x = tfidf.transform(x)"
   ]
  },
  {
   "cell_type": "code",
   "execution_count": 87,
   "metadata": {},
   "outputs": [
    {
     "data": {
      "text/plain": [
       "array([0], dtype=int64)"
      ]
     },
     "execution_count": 87,
     "metadata": {},
     "output_type": "execute_result"
    }
   ],
   "source": [
    "clf.predict(x)"
   ]
  },
  {
   "cell_type": "markdown",
   "metadata": {},
   "source": [
    "Logistic Regression"
   ]
  },
  {
   "cell_type": "code",
   "execution_count": 88,
   "metadata": {},
   "outputs": [],
   "source": [
    "from sklearn.linear_model import LogisticRegression"
   ]
  },
  {
   "cell_type": "code",
   "execution_count": 89,
   "metadata": {},
   "outputs": [],
   "source": [
    "lr = LogisticRegression()"
   ]
  },
  {
   "cell_type": "code",
   "execution_count": 90,
   "metadata": {},
   "outputs": [
    {
     "name": "stdout",
     "output_type": "stream",
     "text": [
      "Accuracy Score: 0.7631356841427652\n",
      "Classification Report:\n",
      "              precision    recall  f1-score   support\n",
      "\n",
      "           0       0.76      1.00      0.87    160000\n",
      "           4       0.54      0.01      0.01     49715\n",
      "\n",
      "    accuracy                           0.76    209715\n",
      "   macro avg       0.65      0.50      0.44    209715\n",
      "weighted avg       0.71      0.76      0.66    209715\n",
      "\n"
     ]
    }
   ],
   "source": [
    "from sklearn.feature_extraction.text import TfidfVectorizer\n",
    "from sklearn.model_selection import train_test_split\n",
    "from sklearn.linear_model import LogisticRegression\n",
    "from sklearn.metrics import accuracy_score, classification_report\n",
    "\n",
    "def run_lr(df):\n",
    "    X = df['Tweet']\n",
    "    y = df['Sentiment']\n",
    "    \n",
    "    # Reduce max_features and use sparse matrices\n",
    "    tfidf = TfidfVectorizer(norm='l1', ngram_range=(1, 5), analyzer='word', max_features=1000)\n",
    "    \n",
    "    # Process data in batches\n",
    "    batch_size = 1000\n",
    "    X_batches = [tfidf.fit_transform(X[i:i+batch_size]) for i in range(0, len(X), batch_size)]\n",
    "    \n",
    "    # Concatenate sparse matrices\n",
    "    X_concat = scipy.sparse.vstack(X_batches)\n",
    "    \n",
    "    X_train, X_test, y_train, y_test = train_test_split(X_concat, y[:X_concat.shape[0]], test_size=0.2, random_state=2, stratify=y[:X_concat.shape[0]])\n",
    "    \n",
    "    clf = LogisticRegression(max_iter=1000)\n",
    "    clf.fit(X_train, y_train)\n",
    "    \n",
    "    y_pred = clf.predict(X_test)\n",
    "    print('Accuracy Score:', accuracy_score(y_test, y_pred))\n",
    "    print('Classification Report:')\n",
    "    print(classification_report(y_test, y_pred))\n",
    "    \n",
    "    return tfidf, clf\n",
    "\n",
    "tfidf_lr, clf_lr = run_lr(df)\n",
    "\n",
    "\n",
    "\n"
   ]
  },
  {
   "cell_type": "markdown",
   "metadata": {},
   "source": [
    "Decision Tree"
   ]
  },
  {
   "cell_type": "code",
   "execution_count": 91,
   "metadata": {},
   "outputs": [
    {
     "name": "stdout",
     "output_type": "stream",
     "text": [
      "Accuracy Score: 0.7631356841427652\n",
      "Classification Report:\n",
      "              precision    recall  f1-score   support\n",
      "\n",
      "           0       0.76      1.00      0.87    160000\n",
      "           4       0.54      0.01      0.01     49715\n",
      "\n",
      "    accuracy                           0.76    209715\n",
      "   macro avg       0.65      0.50      0.44    209715\n",
      "weighted avg       0.71      0.76      0.66    209715\n",
      "\n"
     ]
    }
   ],
   "source": [
    "from sklearn.tree import DecisionTreeClassifier\n",
    "def run_decision_tree(df):\n",
    "    X = df['Tweet']\n",
    "    y = df['Sentiment']\n",
    "    tfidf = TfidfVectorizer(norm = 'l1',ngram_range = (1,5),analyzer = 'word', max_features = 10000)\n",
    "    X = tfidf.fit_transform(X)\n",
    "    X_train,X_test,y_train,y_test = train_test_split(X, y, test_size=0.2, random_state=2, stratify=y)\n",
    "    print('shape of X ',X.shape)\n",
    "    clf = DecisionTreeClassifier(criterion='entropy')\n",
    "    clf.fit(X_train,y_train)\n",
    "    y_pred = clf.predict(X_test)\n",
    "    print('Accuracy Score ', accuracy_score(y_test,y_pred))\n",
    "    print('Classification report ',classification_report(y_test,y_pred))\n",
    "    return tfidf,clf\n",
    "tfidf_dt,clf_dt = run_lr(df)"
   ]
  }
 ],
 "metadata": {
  "kernelspec": {
   "display_name": ".venv",
   "language": "python",
   "name": "python3"
  },
  "language_info": {
   "codemirror_mode": {
    "name": "ipython",
    "version": 3
   },
   "file_extension": ".py",
   "mimetype": "text/x-python",
   "name": "python",
   "nbconvert_exporter": "python",
   "pygments_lexer": "ipython3",
   "version": "3.8.2"
  }
 },
 "nbformat": 4,
 "nbformat_minor": 2
}
